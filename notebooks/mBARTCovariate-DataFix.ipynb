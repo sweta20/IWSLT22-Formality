{
 "cells": [
  {
   "cell_type": "code",
   "execution_count": null,
   "id": "53c1029a",
   "metadata": {},
   "outputs": [],
   "source": [
    "import torch\n",
    "import numpy as np\n",
    "import random\n",
    "seed=1234\n",
    "random.seed(seed)\n",
    "np.random.seed(seed)\n",
    "torch.manual_seed(seed)\n",
    "import ipdb\n",
    "# https://github.com/huggingface/notebooks/blob/master/examples/translation.ipynb"
   ]
  },
  {
   "cell_type": "code",
   "execution_count": null,
   "id": "bd18e6d0",
   "metadata": {},
   "outputs": [],
   "source": [
    "from transformers import AutoTokenizer\n",
    "import sacrebleu\n",
    "import sys\n",
    "import os\n",
    "from transformers import AutoModelForSeq2SeqLM, DataCollatorForSeq2Seq, Seq2SeqTrainingArguments, MBartForConditionalGeneration, MBart50TokenizerFast"
   ]
  },
  {
   "cell_type": "code",
   "execution_count": null,
   "id": "0fe3a3b6",
   "metadata": {},
   "outputs": [],
   "source": [
    "from datasets import load_dataset, load_metric\n",
    "\n",
    "metric = load_metric(\"sacrebleu\")"
   ]
  },
  {
   "cell_type": "code",
   "execution_count": null,
   "id": "d6fd5c0e",
   "metadata": {},
   "outputs": [],
   "source": [
    "tgt_lang_to_code = {\n",
    "    \"hi\" : \"hi_IN\",\n",
    "    \"de\" : \"de_DE\",\n",
    "    \"es\" : \"es_XX\",\n",
    "    \"it\" : \"it_IT\",\n",
    "    \"ru\" : \"ru_RU\",\n",
    "    \"ja\" : \"ja_XX\"\n",
    "}"
   ]
  },
  {
   "cell_type": "code",
   "execution_count": null,
   "id": "5fad5b31",
   "metadata": {},
   "outputs": [],
   "source": [
    "def read_file(fname):\n",
    "    data = []\n",
    "    with open(fname) as f:\n",
    "        for line in f:\n",
    "            data.append(line.strip())\n",
    "    return data\n",
    "\n",
    "def get_data(tgt_lang, domain, split):\n",
    "    source = read_file(f\"../internal_split/en-{tgt_lang}/{split}.{domain}.en\")\n",
    "    formal_translations = read_file(f\"../internal_split/en-{tgt_lang}/{split}.{domain}.formal.{tgt_lang}\")\n",
    "    informal_translations = read_file(f\"../internal_split/en-{tgt_lang}/{split}.{domain}.informal.{tgt_lang}\")\n",
    "    return source, formal_translations, informal_translations"
   ]
  },
  {
   "cell_type": "code",
   "execution_count": null,
   "id": "fc181632",
   "metadata": {},
   "outputs": [],
   "source": [
    "MAX_LENGTH=96\n",
    "model_name=\"facebook/mbart-large-50-one-to-many-mmt\"\n",
    "tokenizer = AutoTokenizer.from_pretrained(model_name, cache_dir=\"/fs/clip-scratch/sweagraw/CACHE\")"
   ]
  },
  {
   "cell_type": "code",
   "execution_count": null,
   "id": "cdbdc562",
   "metadata": {},
   "outputs": [],
   "source": [
    "import torch\n",
    "from torch.utils.data import Dataset\n",
    "\n",
    "def encode_split(tokenizer, source, formal_translations, informal_translations ):\n",
    "    model_inputs = tokenizer(source, max_length=MAX_LENGTH, truncation=True)\n",
    "    with tokenizer.as_target_tokenizer():\n",
    "        model_outputs_formal = tokenizer(formal_translations, max_length=MAX_LENGTH, truncation=True)\n",
    "        model_outputs_informal = tokenizer(informal_translations, max_length=MAX_LENGTH, truncation=True)\n",
    "    return model_inputs, model_outputs_formal, model_outputs_informal\n",
    "\n",
    "class FormalityData(Dataset):\n",
    "    \n",
    "    def __init__(self, model_inputs, model_outputs, formality_idx, tgt_lang):\n",
    "        self.model_inputs = model_inputs\n",
    "        self.model_outputs = model_outputs\n",
    "        self.formality_idx = torch.tensor(formality_idx).unsqueeze(0).T\n",
    "        self.tgt_lang = tgt_lang\n",
    "    \n",
    "    def __len__(self):\n",
    "        return len(self.model_inputs[\"input_ids\"])\n",
    "\n",
    "    def __getitem__(self, idx):\n",
    "        item = {k: v[idx] for k, v in self.model_inputs.items()}\n",
    "        item[\"labels\"] = self.model_outputs[\"input_ids\"][idx]\n",
    "        item[\"covariate_ids\"] = self.formality_idx\n",
    "        item[\"forced_bos_token_id\"] = tokenizer.lang_code_to_id[tgt_lang_to_code[self.tgt_lang]]\n",
    "        return item"
   ]
  },
  {
   "cell_type": "code",
   "execution_count": null,
   "id": "4ad6959c",
   "metadata": {},
   "outputs": [],
   "source": [
    "domain=\"combined\"\n",
    "src_lang=\"en\"\n",
    "direction=\"informal\"\n",
    "formality_idx = 1\n",
    "informality_idx = 2\n",
    "train_datasets = []\n",
    "tokenizer.src_lang = \"en-XX\"\n",
    "for tgt_lang in [\"hi\", \"ja\", \"de\", \"es\"]:\n",
    "    tokenizer.tgt_lang  = tgt_lang_to_code[tgt_lang]\n",
    "    source, formal_translations, informal_translations = get_data(tgt_lang, domain, \"train\")\n",
    "    model_inputs, model_outputs_formal, model_outputs_informal = encode_split(tokenizer, source, formal_translations, informal_translations )\n",
    "    train_datasets.append(FormalityData(model_inputs, model_outputs_formal, formality_idx, tgt_lang))\n",
    "    train_datasets.append(FormalityData(model_inputs, model_outputs_informal, informality_idx, tgt_lang))\n",
    "    \n",
    "train_dataset = torch.utils.data.ConcatDataset(train_datasets)\n",
    "\n",
    "dev_datasets = []\n",
    "for tgt_lang in [\"hi\", \"ja\", \"de\", \"es\"]:\n",
    "    tokenizer.tgt_lang  = tgt_lang_to_code[tgt_lang]\n",
    "    source, formal_translations, informal_translations = get_data(tgt_lang, domain, \"dev\")\n",
    "    model_inputs, model_outputs_formal, model_outputs_informal = encode_split(tokenizer, source, formal_translations, informal_translations )\n",
    "    dev_datasets.append(FormalityData(model_inputs, model_outputs_formal, formality_idx, tgt_lang))\n",
    "    dev_datasets.append(FormalityData(model_inputs, model_outputs_informal, informality_idx, tgt_lang))\n",
    "    \n",
    "dev_dataset = torch.utils.data.ConcatDataset(dev_datasets)"
   ]
  },
  {
   "cell_type": "code",
   "execution_count": null,
   "id": "d0ccea96",
   "metadata": {},
   "outputs": [],
   "source": [
    "from mbart_covariate import CMBartForConditionalGeneration2, MBartSeq2SeqTrainer, CMBartForConditionalGeneration"
   ]
  },
  {
   "cell_type": "code",
   "execution_count": null,
   "id": "3367ae7e",
   "metadata": {},
   "outputs": [],
   "source": [
    "model_name=\"facebook/mbart-large-50-one-to-many-mmt\""
   ]
  },
  {
   "cell_type": "code",
   "execution_count": null,
   "id": "b714125f",
   "metadata": {},
   "outputs": [],
   "source": [
    "model = CMBartForConditionalGeneration.from_pretrained(model_name, cache_dir=\"/fs/clip-scratch/sweagraw/CACHE\",num_covariates=3)"
   ]
  },
  {
   "cell_type": "code",
   "execution_count": null,
   "id": "3288a23f",
   "metadata": {},
   "outputs": [],
   "source": [
    "model.requires_grad_(False)\n",
    "model.get_decoder().layers[-2:].requires_grad_(True)\n",
    "model.lm_head.requires_grad_(True)\n",
    "model.covariate.requires_grad_(True)"
   ]
  },
  {
   "cell_type": "code",
   "execution_count": null,
   "id": "402efc7b",
   "metadata": {},
   "outputs": [],
   "source": [
    "def count_params(model):\n",
    "    return sum(p.numel() for p in model.parameters() if p.requires_grad)\n",
    "\n",
    "print(f\"Training {count_params(model)} parameters...\")"
   ]
  },
  {
   "cell_type": "code",
   "execution_count": null,
   "id": "fc81f725",
   "metadata": {},
   "outputs": [],
   "source": [
    "train_batch_size = 8\n",
    "eval_batch_size=4\n",
    "MASK_PROB = 0.0\n",
    "output_dir=f\"../models/{model_name}-finetuned-covariate-{src_lang}-to-xx\"\n",
    "style_mask=model.config.style_mask\n",
    "args = Seq2SeqTrainingArguments(\n",
    "    output_dir=output_dir,\n",
    "    evaluation_strategy = \"epoch\",\n",
    "    learning_rate=3e-5,\n",
    "    per_device_train_batch_size=train_batch_size,\n",
    "    per_device_eval_batch_size=eval_batch_size,\n",
    "    weight_decay=0.01,\n",
    "    save_total_limit=10,\n",
    "    num_train_epochs=10,\n",
    "    save_steps=100,\n",
    "    eval_steps=100,\n",
    "    gradient_accumulation_steps=2,\n",
    "    predict_with_generate=True,\n",
    "    fp16=True,\n",
    "    push_to_hub=False,\n",
    ")"
   ]
  },
  {
   "cell_type": "code",
   "execution_count": null,
   "id": "a1123cc5",
   "metadata": {},
   "outputs": [],
   "source": [
    "collator = DataCollatorForSeq2Seq(tokenizer, model=model)"
   ]
  },
  {
   "cell_type": "code",
   "execution_count": null,
   "id": "01581cc0",
   "metadata": {},
   "outputs": [],
   "source": [
    "import numpy as np\n",
    "\n",
    "def postprocess_text(preds, labels):\n",
    "    preds = [pred.strip() for pred in preds]\n",
    "    labels = [[label.strip()] for label in labels]\n",
    "\n",
    "    return preds, labels\n",
    "\n",
    "def compute_metrics(eval_preds):\n",
    "    preds, labels = eval_preds\n",
    "    if isinstance(preds, tuple):\n",
    "        preds = preds[0]\n",
    "    decoded_preds = tokenizer.batch_decode(preds, skip_special_tokens=True)\n",
    "\n",
    "    # Replace -100 in the labels as we can't decode them.\n",
    "    labels = np.where(labels != -100, labels, tokenizer.pad_token_id)\n",
    "    decoded_labels = tokenizer.batch_decode(labels, skip_special_tokens=True)\n",
    "\n",
    "    # Some simple post-processing\n",
    "    decoded_preds, decoded_labels = postprocess_text(decoded_preds, decoded_labels)\n",
    "\n",
    "    result = metric.compute(predictions=decoded_preds, references=decoded_labels)\n",
    "    result = {\"bleu\": result[\"score\"]}\n",
    "\n",
    "    prediction_lens = [np.count_nonzero(pred != tokenizer.pad_token_id) for pred in preds]\n",
    "    result[\"gen_len\"] = np.mean(prediction_lens)\n",
    "    result = {k: round(v, 4) for k, v in result.items()}\n",
    "    return result"
   ]
  },
  {
   "cell_type": "code",
   "execution_count": null,
   "id": "5f681bd4",
   "metadata": {},
   "outputs": [],
   "source": [
    "\n",
    "def collate_fn(batch, collator, mask_prob, mask_idx):\n",
    "    batch = collator(batch)\n",
    "    mask = torch.rand_like(batch[\"covariate_ids\"], dtype=torch.float32) < mask_prob\n",
    "    batch[\"covariate_ids\"] = batch[\"covariate_ids\"].masked_fill(mask, mask_idx).unsqueeze(0).T\n",
    "#     print(batch)\n",
    "    return batch"
   ]
  },
  {
   "cell_type": "code",
   "execution_count": null,
   "id": "87198762",
   "metadata": {},
   "outputs": [],
   "source": [
    "trainer = MBartSeq2SeqTrainer(\n",
    "    model,\n",
    "    args,\n",
    "    train_dataset=train_dataset,\n",
    "    eval_dataset=dev_dataset,\n",
    "    data_collator=lambda batch: collate_fn(batch, collator, 0,  model.config.style_mask),\n",
    "    tokenizer=tokenizer,\n",
    "    compute_metrics=compute_metrics\n",
    ")"
   ]
  },
  {
   "cell_type": "code",
   "execution_count": null,
   "id": "19a31099",
   "metadata": {},
   "outputs": [],
   "source": [
    "import torch\n",
    "torch.cuda.empty_cache()"
   ]
  },
  {
   "cell_type": "code",
   "execution_count": null,
   "id": "046df384",
   "metadata": {},
   "outputs": [],
   "source": [
    "# %debug \n",
    "trainer.evaluate()"
   ]
  },
  {
   "cell_type": "code",
   "execution_count": null,
   "id": "8314fe69",
   "metadata": {},
   "outputs": [],
   "source": [
    "trainer.train()"
   ]
  },
  {
   "cell_type": "code",
   "execution_count": null,
   "id": "dc75b346",
   "metadata": {},
   "outputs": [],
   "source": []
  }
 ],
 "metadata": {
  "kernelspec": {
   "display_name": "Python 3 (ipykernel)",
   "language": "python",
   "name": "python3"
  },
  "language_info": {
   "codemirror_mode": {
    "name": "ipython",
    "version": 3
   },
   "file_extension": ".py",
   "mimetype": "text/x-python",
   "name": "python",
   "nbconvert_exporter": "python",
   "pygments_lexer": "ipython3",
   "version": "3.7.11"
  }
 },
 "nbformat": 4,
 "nbformat_minor": 5
}
