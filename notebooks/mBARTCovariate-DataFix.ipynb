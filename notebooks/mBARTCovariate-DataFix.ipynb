{
 "cells": [
  {
   "cell_type": "code",
   "execution_count": 1,
   "id": "53c1029a",
   "metadata": {},
   "outputs": [
    {
     "data": {
      "text/plain": [
       "<torch._C.Generator at 0x7f843c1aa4f0>"
      ]
     },
     "execution_count": 1,
     "metadata": {},
     "output_type": "execute_result"
    }
   ],
   "source": [
    "import torch\n",
    "import numpy as np\n",
    "import random\n",
    "seed=1234\n",
    "random.seed(seed)\n",
    "np.random.seed(seed)\n",
    "torch.manual_seed(seed)\n",
    "\n",
    "# https://github.com/huggingface/notebooks/blob/master/examples/translation.ipynb"
   ]
  },
  {
   "cell_type": "code",
   "execution_count": 2,
   "id": "bd18e6d0",
   "metadata": {},
   "outputs": [],
   "source": [
    "from transformers import AutoTokenizer\n",
    "import sacrebleu\n",
    "import sys\n",
    "import os\n",
    "from transformers import AutoModelForSeq2SeqLM, DataCollatorForSeq2Seq, Seq2SeqTrainingArguments, MBartForConditionalGeneration, MBart50TokenizerFast"
   ]
  },
  {
   "cell_type": "code",
   "execution_count": 3,
   "id": "0fe3a3b6",
   "metadata": {},
   "outputs": [],
   "source": [
    "from datasets import load_dataset, load_metric\n",
    "\n",
    "metric = load_metric(\"sacrebleu\")"
   ]
  },
  {
   "cell_type": "code",
   "execution_count": 4,
   "id": "d6fd5c0e",
   "metadata": {},
   "outputs": [],
   "source": [
    "tgt_lang_to_code = {\n",
    "    \"hi\" : \"hi_IN\",\n",
    "    \"de\" : \"de_DE\",\n",
    "    \"es\" : \"es_XX\",\n",
    "    \"it\" : \"it_IT\",\n",
    "    \"ru\" : \"ru_RU\",\n",
    "    \"ja\" : \"ja_XX\"\n",
    "}"
   ]
  },
  {
   "cell_type": "code",
   "execution_count": 5,
   "id": "5fad5b31",
   "metadata": {},
   "outputs": [],
   "source": [
    "def read_file(fname):\n",
    "    data = []\n",
    "    with open(fname) as f:\n",
    "        for line in f:\n",
    "            data.append(line.strip())\n",
    "    return data\n",
    "\n",
    "def get_data(tgt_lang, domain, split):\n",
    "    source = read_file(f\"../internal_split/en-{tgt_lang}/{split}.{domain}.en\")\n",
    "    formal_translations = read_file(f\"../internal_split/en-{tgt_lang}/{split}.{domain}.formal.{tgt_lang}\")\n",
    "    informal_translations = read_file(f\"../internal_split/en-{tgt_lang}/{split}.{domain}.informal.{tgt_lang}\")\n",
    "    return source, formal_translations, informal_translations"
   ]
  },
  {
   "cell_type": "code",
   "execution_count": 6,
   "id": "fc181632",
   "metadata": {},
   "outputs": [],
   "source": [
    "MAX_LENGTH=64\n",
    "model_name=\"facebook/mbart-large-50-one-to-many-mmt\"\n",
    "tokenizer = AutoTokenizer.from_pretrained(model_name, cache_dir=\"/fs/clip-scratch/sweagraw/CACHE\")"
   ]
  },
  {
   "cell_type": "code",
   "execution_count": 7,
   "id": "cdbdc562",
   "metadata": {},
   "outputs": [],
   "source": [
    "import torch\n",
    "from torch.utils.data import Dataset\n",
    "\n",
    "def encode_split(tokenizer, source, formal_translations, informal_translations ):\n",
    "    model_inputs = tokenizer(source, max_length=MAX_LENGTH, truncation=True)\n",
    "    with tokenizer.as_target_tokenizer():\n",
    "        model_outputs_formal = tokenizer(formal_translations, max_length=MAX_LENGTH, truncation=True)\n",
    "        model_outputs_informal = tokenizer(informal_translations, max_length=MAX_LENGTH, truncation=True)\n",
    "    return model_inputs, model_outputs_formal, model_outputs_informal\n",
    "\n",
    "class FormalityData(Dataset):\n",
    "    \n",
    "    def __init__(self, model_inputs, model_outputs, formality_idx, tgt_lang):\n",
    "        self.model_inputs = model_inputs\n",
    "        self.model_outputs = model_outputs\n",
    "        self.formality_idx = torch.tensor(formality_idx).unsqueeze(0).T\n",
    "        self.tgt_lang = tgt_lang\n",
    "    \n",
    "    def __len__(self):\n",
    "        return len(self.model_inputs[\"input_ids\"])\n",
    "\n",
    "    def __getitem__(self, idx):\n",
    "        item = {k: v[idx] for k, v in self.model_inputs.items()}\n",
    "        item[\"labels\"] = self.model_outputs[\"input_ids\"][idx]\n",
    "        item[\"covariate_ids\"] = self.formality_idx\n",
    "        item[\"forced_bos_token_id\"] = tokenizer.lang_code_to_id[tgt_lang_to_code[self.tgt_lang]]\n",
    "        return item"
   ]
  },
  {
   "cell_type": "code",
   "execution_count": 8,
   "id": "4ad6959c",
   "metadata": {},
   "outputs": [],
   "source": [
    "domain=\"combined\"\n",
    "src_lang=\"en\"\n",
    "direction=\"informal\"\n",
    "formality_idx = 1\n",
    "informality_idx = 2\n",
    "train_datasets = []\n",
    "tokenizer.src_lang = \"en-XX\"\n",
    "for tgt_lang in [\"hi\", \"ja\", \"de\", \"es\"]:\n",
    "    tokenizer.tgt_lang  = tgt_lang_to_code[tgt_lang]\n",
    "    source, formal_translations, informal_translations = get_data(tgt_lang, domain, \"train\")\n",
    "    model_inputs, model_outputs_formal, model_outputs_informal = encode_split(tokenizer, source, formal_translations, informal_translations )\n",
    "    train_datasets.append(FormalityData(model_inputs, model_outputs_formal, formality_idx, tgt_lang))\n",
    "    train_datasets.append(FormalityData(model_inputs, model_outputs_informal, informality_idx, tgt_lang))\n",
    "    \n",
    "train_dataset = torch.utils.data.ConcatDataset(train_datasets)\n",
    "\n",
    "dev_datasets = []\n",
    "for tgt_lang in [\"hi\", \"ja\", \"de\", \"es\"]:\n",
    "    tokenizer.tgt_lang  = tgt_lang_to_code[tgt_lang]\n",
    "    source, formal_translations, informal_translations = get_data(tgt_lang, domain, \"dev\")\n",
    "    model_inputs, model_outputs_formal, model_outputs_informal = encode_split(tokenizer, source, formal_translations, informal_translations )\n",
    "    dev_datasets.append(FormalityData(model_inputs, model_outputs_formal, formality_idx, tgt_lang))\n",
    "    dev_datasets.append(FormalityData(model_inputs, model_outputs_informal, informality_idx, tgt_lang))\n",
    "    \n",
    "dev_dataset = torch.utils.data.ConcatDataset(dev_datasets)"
   ]
  },
  {
   "cell_type": "code",
   "execution_count": 9,
   "id": "d0ccea96",
   "metadata": {},
   "outputs": [],
   "source": [
    "from mbart_covariate import CMBartForConditionalGeneration, MBartSeq2SeqTrainer"
   ]
  },
  {
   "cell_type": "code",
   "execution_count": 10,
   "id": "3367ae7e",
   "metadata": {},
   "outputs": [],
   "source": [
    "model_name=\"facebook/mbart-large-50-one-to-many-mmt\""
   ]
  },
  {
   "cell_type": "code",
   "execution_count": 11,
   "id": "b714125f",
   "metadata": {},
   "outputs": [
    {
     "name": "stderr",
     "output_type": "stream",
     "text": [
      "Some weights of CMBartForConditionalGeneration were not initialized from the model checkpoint at facebook/mbart-large-50-one-to-many-mmt and are newly initialized: ['covariate.weight', 'model.covariate.weight']\n",
      "You should probably TRAIN this model on a down-stream task to be able to use it for predictions and inference.\n"
     ]
    }
   ],
   "source": [
    "model = CMBartForConditionalGeneration.from_pretrained(model_name, cache_dir=\"/fs/clip-scratch/sweagraw/CACHE\",num_covariates=3)"
   ]
  },
  {
   "cell_type": "code",
   "execution_count": 12,
   "id": "3288a23f",
   "metadata": {},
   "outputs": [
    {
     "data": {
      "text/plain": [
       "Linear(in_features=1024, out_features=250054, bias=False)"
      ]
     },
     "execution_count": 12,
     "metadata": {},
     "output_type": "execute_result"
    }
   ],
   "source": [
    "model.requires_grad_(False)\n",
    "model.get_covariate().requires_grad_(True)\n",
    "# model.get_decoder().requires_grad_(True)\n",
    "model.get_decoder().layers[-2:].requires_grad_(True)\n",
    "model.lm_head.requires_grad_(True)"
   ]
  },
  {
   "cell_type": "code",
   "execution_count": 13,
   "id": "402efc7b",
   "metadata": {},
   "outputs": [
    {
     "name": "stdout",
     "output_type": "stream",
     "text": [
      "Training 289651712 parameters...\n"
     ]
    }
   ],
   "source": [
    "def count_params(model):\n",
    "    return sum(p.numel() for p in model.parameters() if p.requires_grad)\n",
    "\n",
    "print(f\"Training {count_params(model)} parameters...\")"
   ]
  },
  {
   "cell_type": "code",
   "execution_count": 14,
   "id": "fc81f725",
   "metadata": {},
   "outputs": [],
   "source": [
    "train_batch_size = 8\n",
    "eval_batch_size=4\n",
    "MASK_PROB = 0.0\n",
    "style_mask=model.config.style_mask\n",
    "args = Seq2SeqTrainingArguments(\n",
    "    output_dir=f\"../models/{model_name}-finetuned-covariate-lm-{src_lang}-to-xx\",\n",
    "    evaluation_strategy = \"epoch\",\n",
    "    learning_rate=3e-5,\n",
    "    per_device_train_batch_size=train_batch_size,\n",
    "    per_device_eval_batch_size=eval_batch_size,\n",
    "    weight_decay=0.01,\n",
    "    save_total_limit=10,\n",
    "    num_train_epochs=10,\n",
    "    save_steps=50,\n",
    "    eval_steps=50,\n",
    "    gradient_accumulation_steps=2,\n",
    "    predict_with_generate=True,\n",
    "    fp16=True,\n",
    "    push_to_hub=False,\n",
    ")"
   ]
  },
  {
   "cell_type": "code",
   "execution_count": 15,
   "id": "a1123cc5",
   "metadata": {},
   "outputs": [],
   "source": [
    "collator = DataCollatorForSeq2Seq(tokenizer, model=model)"
   ]
  },
  {
   "cell_type": "code",
   "execution_count": 16,
   "id": "01581cc0",
   "metadata": {},
   "outputs": [],
   "source": [
    "import numpy as np\n",
    "\n",
    "def postprocess_text(preds, labels):\n",
    "    preds = [pred.strip() for pred in preds]\n",
    "    labels = [[label.strip()] for label in labels]\n",
    "\n",
    "    return preds, labels\n",
    "\n",
    "def compute_metrics(eval_preds):\n",
    "    preds, labels = eval_preds\n",
    "    if isinstance(preds, tuple):\n",
    "        preds = preds[0]\n",
    "    decoded_preds = tokenizer.batch_decode(preds, skip_special_tokens=True)\n",
    "\n",
    "    # Replace -100 in the labels as we can't decode them.\n",
    "    labels = np.where(labels != -100, labels, tokenizer.pad_token_id)\n",
    "    decoded_labels = tokenizer.batch_decode(labels, skip_special_tokens=True)\n",
    "\n",
    "    # Some simple post-processing\n",
    "    decoded_preds, decoded_labels = postprocess_text(decoded_preds, decoded_labels)\n",
    "\n",
    "    result = metric.compute(predictions=decoded_preds, references=decoded_labels)\n",
    "    result = {\"bleu\": result[\"score\"]}\n",
    "\n",
    "    prediction_lens = [np.count_nonzero(pred != tokenizer.pad_token_id) for pred in preds]\n",
    "    result[\"gen_len\"] = np.mean(prediction_lens)\n",
    "    result = {k: round(v, 4) for k, v in result.items()}\n",
    "    return result"
   ]
  },
  {
   "cell_type": "code",
   "execution_count": 17,
   "id": "5f681bd4",
   "metadata": {},
   "outputs": [],
   "source": [
    "\n",
    "def collate_fn(batch, collator, mask_prob, mask_idx):\n",
    "    batch = collator(batch)\n",
    "    mask = torch.rand_like(batch[\"covariate_ids\"], dtype=torch.float32) < mask_prob\n",
    "    batch[\"covariate_ids\"] = batch[\"covariate_ids\"].masked_fill(mask, mask_idx).unsqueeze(0).T\n",
    "    return batch"
   ]
  },
  {
   "cell_type": "code",
   "execution_count": 18,
   "id": "87198762",
   "metadata": {},
   "outputs": [
    {
     "name": "stderr",
     "output_type": "stream",
     "text": [
      "Using amp fp16 backend\n"
     ]
    }
   ],
   "source": [
    "trainer = MBartSeq2SeqTrainer(\n",
    "    model,\n",
    "    args,\n",
    "    train_dataset=train_dataset,\n",
    "    eval_dataset=dev_dataset,\n",
    "    data_collator=lambda batch: collate_fn(batch, collator, 0,  model.config.style_mask),\n",
    "    tokenizer=tokenizer,\n",
    "    compute_metrics=compute_metrics\n",
    ")"
   ]
  },
  {
   "cell_type": "code",
   "execution_count": 19,
   "id": "19a31099",
   "metadata": {},
   "outputs": [],
   "source": [
    "import torch\n",
    "torch.cuda.empty_cache()"
   ]
  },
  {
   "cell_type": "code",
   "execution_count": 20,
   "id": "8314fe69",
   "metadata": {},
   "outputs": [
    {
     "name": "stderr",
     "output_type": "stream",
     "text": [
      "***** Running training *****\n",
      "  Num examples = 3600\n",
      "  Num Epochs = 10\n",
      "  Instantaneous batch size per device = 8\n",
      "  Total train batch size (w. parallel, distributed & accumulation) = 32\n",
      "  Gradient Accumulation steps = 2\n",
      "  Total optimization steps = 1120\n",
      "/fs/clip-controllablemt/fenv/lib/python3.9/site-packages/torch/nn/parallel/_functions.py:68: UserWarning: Was asked to gather along dimension 0, but all input tensors were scalars; will instead unsqueeze and return a vector.\n",
      "  warnings.warn('Was asked to gather along dimension 0, but all '\n"
     ]
    },
    {
     "data": {
      "text/html": [
       "\n",
       "    <div>\n",
       "      \n",
       "      <progress value='1120' max='1120' style='width:300px; height:20px; vertical-align: middle;'></progress>\n",
       "      [1120/1120 2:09:23, Epoch 9/10]\n",
       "    </div>\n",
       "    <table border=\"1\" class=\"dataframe\">\n",
       "  <thead>\n",
       "    <tr style=\"text-align: left;\">\n",
       "      <th>Epoch</th>\n",
       "      <th>Training Loss</th>\n",
       "      <th>Validation Loss</th>\n",
       "      <th>Bleu</th>\n",
       "      <th>Gen Len</th>\n",
       "    </tr>\n",
       "  </thead>\n",
       "  <tbody>\n",
       "    <tr>\n",
       "      <td>0</td>\n",
       "      <td>No log</td>\n",
       "      <td>1.505029</td>\n",
       "      <td>29.840900</td>\n",
       "      <td>34.668800</td>\n",
       "    </tr>\n",
       "    <tr>\n",
       "      <td>1</td>\n",
       "      <td>No log</td>\n",
       "      <td>1.469209</td>\n",
       "      <td>29.364000</td>\n",
       "      <td>35.530000</td>\n",
       "    </tr>\n",
       "    <tr>\n",
       "      <td>2</td>\n",
       "      <td>No log</td>\n",
       "      <td>1.477907</td>\n",
       "      <td>30.179800</td>\n",
       "      <td>34.803800</td>\n",
       "    </tr>\n",
       "    <tr>\n",
       "      <td>3</td>\n",
       "      <td>No log</td>\n",
       "      <td>1.504422</td>\n",
       "      <td>30.581500</td>\n",
       "      <td>35.001200</td>\n",
       "    </tr>\n",
       "    <tr>\n",
       "      <td>4</td>\n",
       "      <td>1.341600</td>\n",
       "      <td>1.526103</td>\n",
       "      <td>31.353800</td>\n",
       "      <td>34.146200</td>\n",
       "    </tr>\n",
       "    <tr>\n",
       "      <td>5</td>\n",
       "      <td>1.341600</td>\n",
       "      <td>1.557382</td>\n",
       "      <td>29.794500</td>\n",
       "      <td>35.342500</td>\n",
       "    </tr>\n",
       "    <tr>\n",
       "      <td>6</td>\n",
       "      <td>1.341600</td>\n",
       "      <td>1.579522</td>\n",
       "      <td>31.387000</td>\n",
       "      <td>34.023800</td>\n",
       "    </tr>\n",
       "    <tr>\n",
       "      <td>7</td>\n",
       "      <td>1.341600</td>\n",
       "      <td>1.613294</td>\n",
       "      <td>31.683200</td>\n",
       "      <td>33.980000</td>\n",
       "    </tr>\n",
       "    <tr>\n",
       "      <td>8</td>\n",
       "      <td>0.787400</td>\n",
       "      <td>1.624582</td>\n",
       "      <td>31.813300</td>\n",
       "      <td>33.180000</td>\n",
       "    </tr>\n",
       "    <tr>\n",
       "      <td>9</td>\n",
       "      <td>0.787400</td>\n",
       "      <td>1.618545</td>\n",
       "      <td>31.990000</td>\n",
       "      <td>33.362500</td>\n",
       "    </tr>\n",
       "  </tbody>\n",
       "</table><p>"
      ],
      "text/plain": [
       "<IPython.core.display.HTML object>"
      ]
     },
     "metadata": {},
     "output_type": "display_data"
    },
    {
     "name": "stderr",
     "output_type": "stream",
     "text": [
      "Saving model checkpoint to ../models/facebook/mbart-large-50-one-to-many-mmt-finetuned-covariate-lm-en-to-xx/checkpoint-50\n",
      "Configuration saved in ../models/facebook/mbart-large-50-one-to-many-mmt-finetuned-covariate-lm-en-to-xx/checkpoint-50/config.json\n",
      "Model weights saved in ../models/facebook/mbart-large-50-one-to-many-mmt-finetuned-covariate-lm-en-to-xx/checkpoint-50/pytorch_model.bin\n",
      "tokenizer config file saved in ../models/facebook/mbart-large-50-one-to-many-mmt-finetuned-covariate-lm-en-to-xx/checkpoint-50/tokenizer_config.json\n",
      "Special tokens file saved in ../models/facebook/mbart-large-50-one-to-many-mmt-finetuned-covariate-lm-en-to-xx/checkpoint-50/special_tokens_map.json\n",
      "/fs/clip-controllablemt/fenv/lib/python3.9/site-packages/torch/nn/parallel/_functions.py:68: UserWarning: Was asked to gather along dimension 0, but all input tensors were scalars; will instead unsqueeze and return a vector.\n",
      "  warnings.warn('Was asked to gather along dimension 0, but all '\n",
      "Saving model checkpoint to ../models/facebook/mbart-large-50-one-to-many-mmt-finetuned-covariate-lm-en-to-xx/checkpoint-100\n",
      "Configuration saved in ../models/facebook/mbart-large-50-one-to-many-mmt-finetuned-covariate-lm-en-to-xx/checkpoint-100/config.json\n",
      "Model weights saved in ../models/facebook/mbart-large-50-one-to-many-mmt-finetuned-covariate-lm-en-to-xx/checkpoint-100/pytorch_model.bin\n",
      "tokenizer config file saved in ../models/facebook/mbart-large-50-one-to-many-mmt-finetuned-covariate-lm-en-to-xx/checkpoint-100/tokenizer_config.json\n",
      "Special tokens file saved in ../models/facebook/mbart-large-50-one-to-many-mmt-finetuned-covariate-lm-en-to-xx/checkpoint-100/special_tokens_map.json\n",
      "/fs/clip-controllablemt/fenv/lib/python3.9/site-packages/torch/nn/parallel/_functions.py:68: UserWarning: Was asked to gather along dimension 0, but all input tensors were scalars; will instead unsqueeze and return a vector.\n",
      "  warnings.warn('Was asked to gather along dimension 0, but all '\n",
      "***** Running Evaluation *****\n",
      "  Num examples = 800\n",
      "  Batch size = 8\n",
      "Saving model checkpoint to ../models/facebook/mbart-large-50-one-to-many-mmt-finetuned-covariate-lm-en-to-xx/checkpoint-150\n",
      "Configuration saved in ../models/facebook/mbart-large-50-one-to-many-mmt-finetuned-covariate-lm-en-to-xx/checkpoint-150/config.json\n",
      "Model weights saved in ../models/facebook/mbart-large-50-one-to-many-mmt-finetuned-covariate-lm-en-to-xx/checkpoint-150/pytorch_model.bin\n",
      "tokenizer config file saved in ../models/facebook/mbart-large-50-one-to-many-mmt-finetuned-covariate-lm-en-to-xx/checkpoint-150/tokenizer_config.json\n",
      "Special tokens file saved in ../models/facebook/mbart-large-50-one-to-many-mmt-finetuned-covariate-lm-en-to-xx/checkpoint-150/special_tokens_map.json\n",
      "/fs/clip-controllablemt/fenv/lib/python3.9/site-packages/torch/nn/parallel/_functions.py:68: UserWarning: Was asked to gather along dimension 0, but all input tensors were scalars; will instead unsqueeze and return a vector.\n",
      "  warnings.warn('Was asked to gather along dimension 0, but all '\n",
      "Saving model checkpoint to ../models/facebook/mbart-large-50-one-to-many-mmt-finetuned-covariate-lm-en-to-xx/checkpoint-200\n",
      "Configuration saved in ../models/facebook/mbart-large-50-one-to-many-mmt-finetuned-covariate-lm-en-to-xx/checkpoint-200/config.json\n",
      "Model weights saved in ../models/facebook/mbart-large-50-one-to-many-mmt-finetuned-covariate-lm-en-to-xx/checkpoint-200/pytorch_model.bin\n",
      "tokenizer config file saved in ../models/facebook/mbart-large-50-one-to-many-mmt-finetuned-covariate-lm-en-to-xx/checkpoint-200/tokenizer_config.json\n",
      "Special tokens file saved in ../models/facebook/mbart-large-50-one-to-many-mmt-finetuned-covariate-lm-en-to-xx/checkpoint-200/special_tokens_map.json\n",
      "/fs/clip-controllablemt/fenv/lib/python3.9/site-packages/torch/nn/parallel/_functions.py:68: UserWarning: Was asked to gather along dimension 0, but all input tensors were scalars; will instead unsqueeze and return a vector.\n",
      "  warnings.warn('Was asked to gather along dimension 0, but all '\n",
      "***** Running Evaluation *****\n",
      "  Num examples = 800\n",
      "  Batch size = 8\n",
      "Saving model checkpoint to ../models/facebook/mbart-large-50-one-to-many-mmt-finetuned-covariate-lm-en-to-xx/checkpoint-250\n",
      "Configuration saved in ../models/facebook/mbart-large-50-one-to-many-mmt-finetuned-covariate-lm-en-to-xx/checkpoint-250/config.json\n",
      "Model weights saved in ../models/facebook/mbart-large-50-one-to-many-mmt-finetuned-covariate-lm-en-to-xx/checkpoint-250/pytorch_model.bin\n",
      "tokenizer config file saved in ../models/facebook/mbart-large-50-one-to-many-mmt-finetuned-covariate-lm-en-to-xx/checkpoint-250/tokenizer_config.json\n",
      "Special tokens file saved in ../models/facebook/mbart-large-50-one-to-many-mmt-finetuned-covariate-lm-en-to-xx/checkpoint-250/special_tokens_map.json\n",
      "/fs/clip-controllablemt/fenv/lib/python3.9/site-packages/torch/nn/parallel/_functions.py:68: UserWarning: Was asked to gather along dimension 0, but all input tensors were scalars; will instead unsqueeze and return a vector.\n",
      "  warnings.warn('Was asked to gather along dimension 0, but all '\n",
      "Saving model checkpoint to ../models/facebook/mbart-large-50-one-to-many-mmt-finetuned-covariate-lm-en-to-xx/checkpoint-300\n",
      "Configuration saved in ../models/facebook/mbart-large-50-one-to-many-mmt-finetuned-covariate-lm-en-to-xx/checkpoint-300/config.json\n",
      "Model weights saved in ../models/facebook/mbart-large-50-one-to-many-mmt-finetuned-covariate-lm-en-to-xx/checkpoint-300/pytorch_model.bin\n",
      "tokenizer config file saved in ../models/facebook/mbart-large-50-one-to-many-mmt-finetuned-covariate-lm-en-to-xx/checkpoint-300/tokenizer_config.json\n",
      "Special tokens file saved in ../models/facebook/mbart-large-50-one-to-many-mmt-finetuned-covariate-lm-en-to-xx/checkpoint-300/special_tokens_map.json\n",
      "/fs/clip-controllablemt/fenv/lib/python3.9/site-packages/torch/nn/parallel/_functions.py:68: UserWarning: Was asked to gather along dimension 0, but all input tensors were scalars; will instead unsqueeze and return a vector.\n",
      "  warnings.warn('Was asked to gather along dimension 0, but all '\n",
      "***** Running Evaluation *****\n",
      "  Num examples = 800\n",
      "  Batch size = 8\n",
      "Saving model checkpoint to ../models/facebook/mbart-large-50-one-to-many-mmt-finetuned-covariate-lm-en-to-xx/checkpoint-350\n",
      "Configuration saved in ../models/facebook/mbart-large-50-one-to-many-mmt-finetuned-covariate-lm-en-to-xx/checkpoint-350/config.json\n",
      "Model weights saved in ../models/facebook/mbart-large-50-one-to-many-mmt-finetuned-covariate-lm-en-to-xx/checkpoint-350/pytorch_model.bin\n",
      "tokenizer config file saved in ../models/facebook/mbart-large-50-one-to-many-mmt-finetuned-covariate-lm-en-to-xx/checkpoint-350/tokenizer_config.json\n",
      "Special tokens file saved in ../models/facebook/mbart-large-50-one-to-many-mmt-finetuned-covariate-lm-en-to-xx/checkpoint-350/special_tokens_map.json\n",
      "/fs/clip-controllablemt/fenv/lib/python3.9/site-packages/torch/nn/parallel/_functions.py:68: UserWarning: Was asked to gather along dimension 0, but all input tensors were scalars; will instead unsqueeze and return a vector.\n",
      "  warnings.warn('Was asked to gather along dimension 0, but all '\n",
      "Saving model checkpoint to ../models/facebook/mbart-large-50-one-to-many-mmt-finetuned-covariate-lm-en-to-xx/checkpoint-400\n",
      "Configuration saved in ../models/facebook/mbart-large-50-one-to-many-mmt-finetuned-covariate-lm-en-to-xx/checkpoint-400/config.json\n",
      "Model weights saved in ../models/facebook/mbart-large-50-one-to-many-mmt-finetuned-covariate-lm-en-to-xx/checkpoint-400/pytorch_model.bin\n",
      "tokenizer config file saved in ../models/facebook/mbart-large-50-one-to-many-mmt-finetuned-covariate-lm-en-to-xx/checkpoint-400/tokenizer_config.json\n",
      "Special tokens file saved in ../models/facebook/mbart-large-50-one-to-many-mmt-finetuned-covariate-lm-en-to-xx/checkpoint-400/special_tokens_map.json\n",
      "/fs/clip-controllablemt/fenv/lib/python3.9/site-packages/torch/nn/parallel/_functions.py:68: UserWarning: Was asked to gather along dimension 0, but all input tensors were scalars; will instead unsqueeze and return a vector.\n",
      "  warnings.warn('Was asked to gather along dimension 0, but all '\n",
      "***** Running Evaluation *****\n",
      "  Num examples = 800\n",
      "  Batch size = 8\n",
      "Saving model checkpoint to ../models/facebook/mbart-large-50-one-to-many-mmt-finetuned-covariate-lm-en-to-xx/checkpoint-450\n"
     ]
    },
    {
     "name": "stderr",
     "output_type": "stream",
     "text": [
      "Configuration saved in ../models/facebook/mbart-large-50-one-to-many-mmt-finetuned-covariate-lm-en-to-xx/checkpoint-450/config.json\n",
      "Model weights saved in ../models/facebook/mbart-large-50-one-to-many-mmt-finetuned-covariate-lm-en-to-xx/checkpoint-450/pytorch_model.bin\n",
      "tokenizer config file saved in ../models/facebook/mbart-large-50-one-to-many-mmt-finetuned-covariate-lm-en-to-xx/checkpoint-450/tokenizer_config.json\n",
      "Special tokens file saved in ../models/facebook/mbart-large-50-one-to-many-mmt-finetuned-covariate-lm-en-to-xx/checkpoint-450/special_tokens_map.json\n",
      "/fs/clip-controllablemt/fenv/lib/python3.9/site-packages/torch/nn/parallel/_functions.py:68: UserWarning: Was asked to gather along dimension 0, but all input tensors were scalars; will instead unsqueeze and return a vector.\n",
      "  warnings.warn('Was asked to gather along dimension 0, but all '\n",
      "Saving model checkpoint to ../models/facebook/mbart-large-50-one-to-many-mmt-finetuned-covariate-lm-en-to-xx/checkpoint-500\n",
      "Configuration saved in ../models/facebook/mbart-large-50-one-to-many-mmt-finetuned-covariate-lm-en-to-xx/checkpoint-500/config.json\n",
      "Model weights saved in ../models/facebook/mbart-large-50-one-to-many-mmt-finetuned-covariate-lm-en-to-xx/checkpoint-500/pytorch_model.bin\n",
      "tokenizer config file saved in ../models/facebook/mbart-large-50-one-to-many-mmt-finetuned-covariate-lm-en-to-xx/checkpoint-500/tokenizer_config.json\n",
      "Special tokens file saved in ../models/facebook/mbart-large-50-one-to-many-mmt-finetuned-covariate-lm-en-to-xx/checkpoint-500/special_tokens_map.json\n",
      "/fs/clip-controllablemt/fenv/lib/python3.9/site-packages/torch/nn/parallel/_functions.py:68: UserWarning: Was asked to gather along dimension 0, but all input tensors were scalars; will instead unsqueeze and return a vector.\n",
      "  warnings.warn('Was asked to gather along dimension 0, but all '\n",
      "Saving model checkpoint to ../models/facebook/mbart-large-50-one-to-many-mmt-finetuned-covariate-lm-en-to-xx/checkpoint-550\n",
      "Configuration saved in ../models/facebook/mbart-large-50-one-to-many-mmt-finetuned-covariate-lm-en-to-xx/checkpoint-550/config.json\n",
      "Model weights saved in ../models/facebook/mbart-large-50-one-to-many-mmt-finetuned-covariate-lm-en-to-xx/checkpoint-550/pytorch_model.bin\n",
      "tokenizer config file saved in ../models/facebook/mbart-large-50-one-to-many-mmt-finetuned-covariate-lm-en-to-xx/checkpoint-550/tokenizer_config.json\n",
      "Special tokens file saved in ../models/facebook/mbart-large-50-one-to-many-mmt-finetuned-covariate-lm-en-to-xx/checkpoint-550/special_tokens_map.json\n",
      "Deleting older checkpoint [../models/facebook/mbart-large-50-one-to-many-mmt-finetuned-covariate-lm-en-to-xx/checkpoint-50] due to args.save_total_limit\n",
      "/fs/clip-controllablemt/fenv/lib/python3.9/site-packages/torch/nn/parallel/_functions.py:68: UserWarning: Was asked to gather along dimension 0, but all input tensors were scalars; will instead unsqueeze and return a vector.\n",
      "  warnings.warn('Was asked to gather along dimension 0, but all '\n",
      "***** Running Evaluation *****\n",
      "  Num examples = 800\n",
      "  Batch size = 8\n",
      "Saving model checkpoint to ../models/facebook/mbart-large-50-one-to-many-mmt-finetuned-covariate-lm-en-to-xx/checkpoint-600\n",
      "Configuration saved in ../models/facebook/mbart-large-50-one-to-many-mmt-finetuned-covariate-lm-en-to-xx/checkpoint-600/config.json\n",
      "Model weights saved in ../models/facebook/mbart-large-50-one-to-many-mmt-finetuned-covariate-lm-en-to-xx/checkpoint-600/pytorch_model.bin\n",
      "tokenizer config file saved in ../models/facebook/mbart-large-50-one-to-many-mmt-finetuned-covariate-lm-en-to-xx/checkpoint-600/tokenizer_config.json\n",
      "Special tokens file saved in ../models/facebook/mbart-large-50-one-to-many-mmt-finetuned-covariate-lm-en-to-xx/checkpoint-600/special_tokens_map.json\n",
      "Model weights saved in ../models/facebook/mbart-large-50-one-to-many-mmt-finetuned-covariate-lm-en-to-xx/checkpoint-650/pytorch_model.bin\n",
      "tokenizer config file saved in ../models/facebook/mbart-large-50-one-to-many-mmt-finetuned-covariate-lm-en-to-xx/checkpoint-650/tokenizer_config.json\n",
      "Special tokens file saved in ../models/facebook/mbart-large-50-one-to-many-mmt-finetuned-covariate-lm-en-to-xx/checkpoint-650/special_tokens_map.json\n",
      "Deleting older checkpoint [../models/facebook/mbart-large-50-one-to-many-mmt-finetuned-covariate-lm-en-to-xx/checkpoint-150] due to args.save_total_limit\n",
      "/fs/clip-controllablemt/fenv/lib/python3.9/site-packages/torch/nn/parallel/_functions.py:68: UserWarning: Was asked to gather along dimension 0, but all input tensors were scalars; will instead unsqueeze and return a vector.\n",
      "  warnings.warn('Was asked to gather along dimension 0, but all '\n",
      "***** Running Evaluation *****\n",
      "  Num examples = 800\n",
      "  Batch size = 8\n",
      "Saving model checkpoint to ../models/facebook/mbart-large-50-one-to-many-mmt-finetuned-covariate-lm-en-to-xx/checkpoint-750\n",
      "Configuration saved in ../models/facebook/mbart-large-50-one-to-many-mmt-finetuned-covariate-lm-en-to-xx/checkpoint-750/config.json\n",
      "Model weights saved in ../models/facebook/mbart-large-50-one-to-many-mmt-finetuned-covariate-lm-en-to-xx/checkpoint-750/pytorch_model.bin\n",
      "tokenizer config file saved in ../models/facebook/mbart-large-50-one-to-many-mmt-finetuned-covariate-lm-en-to-xx/checkpoint-750/tokenizer_config.json\n",
      "Special tokens file saved in ../models/facebook/mbart-large-50-one-to-many-mmt-finetuned-covariate-lm-en-to-xx/checkpoint-750/special_tokens_map.json\n",
      "Deleting older checkpoint [../models/facebook/mbart-large-50-one-to-many-mmt-finetuned-covariate-lm-en-to-xx/checkpoint-250] due to args.save_total_limit\n",
      "/fs/clip-controllablemt/fenv/lib/python3.9/site-packages/torch/nn/parallel/_functions.py:68: UserWarning: Was asked to gather along dimension 0, but all input tensors were scalars; will instead unsqueeze and return a vector.\n",
      "  warnings.warn('Was asked to gather along dimension 0, but all '\n",
      "***** Running Evaluation *****\n",
      "  Num examples = 800\n",
      "  Batch size = 8\n",
      "Saving model checkpoint to ../models/facebook/mbart-large-50-one-to-many-mmt-finetuned-covariate-lm-en-to-xx/checkpoint-800\n",
      "Configuration saved in ../models/facebook/mbart-large-50-one-to-many-mmt-finetuned-covariate-lm-en-to-xx/checkpoint-800/config.json\n",
      "Model weights saved in ../models/facebook/mbart-large-50-one-to-many-mmt-finetuned-covariate-lm-en-to-xx/checkpoint-800/pytorch_model.bin\n",
      "tokenizer config file saved in ../models/facebook/mbart-large-50-one-to-many-mmt-finetuned-covariate-lm-en-to-xx/checkpoint-800/tokenizer_config.json\n",
      "Special tokens file saved in ../models/facebook/mbart-large-50-one-to-many-mmt-finetuned-covariate-lm-en-to-xx/checkpoint-800/special_tokens_map.json\n",
      "Deleting older checkpoint [../models/facebook/mbart-large-50-one-to-many-mmt-finetuned-covariate-lm-en-to-xx/checkpoint-300] due to args.save_total_limit\n",
      "/fs/clip-controllablemt/fenv/lib/python3.9/site-packages/torch/nn/parallel/_functions.py:68: UserWarning: Was asked to gather along dimension 0, but all input tensors were scalars; will instead unsqueeze and return a vector.\n",
      "  warnings.warn('Was asked to gather along dimension 0, but all '\n",
      "Saving model checkpoint to ../models/facebook/mbart-large-50-one-to-many-mmt-finetuned-covariate-lm-en-to-xx/checkpoint-850\n",
      "Configuration saved in ../models/facebook/mbart-large-50-one-to-many-mmt-finetuned-covariate-lm-en-to-xx/checkpoint-850/config.json\n",
      "Model weights saved in ../models/facebook/mbart-large-50-one-to-many-mmt-finetuned-covariate-lm-en-to-xx/checkpoint-850/pytorch_model.bin\n",
      "tokenizer config file saved in ../models/facebook/mbart-large-50-one-to-many-mmt-finetuned-covariate-lm-en-to-xx/checkpoint-850/tokenizer_config.json\n",
      "Special tokens file saved in ../models/facebook/mbart-large-50-one-to-many-mmt-finetuned-covariate-lm-en-to-xx/checkpoint-850/special_tokens_map.json\n",
      "Deleting older checkpoint [../models/facebook/mbart-large-50-one-to-many-mmt-finetuned-covariate-lm-en-to-xx/checkpoint-350] due to args.save_total_limit\n",
      "/fs/clip-controllablemt/fenv/lib/python3.9/site-packages/torch/nn/parallel/_functions.py:68: UserWarning: Was asked to gather along dimension 0, but all input tensors were scalars; will instead unsqueeze and return a vector.\n",
      "  warnings.warn('Was asked to gather along dimension 0, but all '\n",
      "***** Running Evaluation *****\n"
     ]
    },
    {
     "name": "stderr",
     "output_type": "stream",
     "text": [
      "  Num examples = 800\n",
      "  Batch size = 8\n",
      "Saving model checkpoint to ../models/facebook/mbart-large-50-one-to-many-mmt-finetuned-covariate-lm-en-to-xx/checkpoint-900\n",
      "Configuration saved in ../models/facebook/mbart-large-50-one-to-many-mmt-finetuned-covariate-lm-en-to-xx/checkpoint-900/config.json\n",
      "Model weights saved in ../models/facebook/mbart-large-50-one-to-many-mmt-finetuned-covariate-lm-en-to-xx/checkpoint-900/pytorch_model.bin\n",
      "tokenizer config file saved in ../models/facebook/mbart-large-50-one-to-many-mmt-finetuned-covariate-lm-en-to-xx/checkpoint-900/tokenizer_config.json\n",
      "Special tokens file saved in ../models/facebook/mbart-large-50-one-to-many-mmt-finetuned-covariate-lm-en-to-xx/checkpoint-900/special_tokens_map.json\n",
      "Deleting older checkpoint [../models/facebook/mbart-large-50-one-to-many-mmt-finetuned-covariate-lm-en-to-xx/checkpoint-400] due to args.save_total_limit\n",
      "/fs/clip-controllablemt/fenv/lib/python3.9/site-packages/torch/nn/parallel/_functions.py:68: UserWarning: Was asked to gather along dimension 0, but all input tensors were scalars; will instead unsqueeze and return a vector.\n",
      "  warnings.warn('Was asked to gather along dimension 0, but all '\n",
      "Saving model checkpoint to ../models/facebook/mbart-large-50-one-to-many-mmt-finetuned-covariate-lm-en-to-xx/checkpoint-950\n",
      "Configuration saved in ../models/facebook/mbart-large-50-one-to-many-mmt-finetuned-covariate-lm-en-to-xx/checkpoint-950/config.json\n",
      "Model weights saved in ../models/facebook/mbart-large-50-one-to-many-mmt-finetuned-covariate-lm-en-to-xx/checkpoint-950/pytorch_model.bin\n",
      "tokenizer config file saved in ../models/facebook/mbart-large-50-one-to-many-mmt-finetuned-covariate-lm-en-to-xx/checkpoint-950/tokenizer_config.json\n",
      "Special tokens file saved in ../models/facebook/mbart-large-50-one-to-many-mmt-finetuned-covariate-lm-en-to-xx/checkpoint-950/special_tokens_map.json\n",
      "Deleting older checkpoint [../models/facebook/mbart-large-50-one-to-many-mmt-finetuned-covariate-lm-en-to-xx/checkpoint-450] due to args.save_total_limit\n",
      "/fs/clip-controllablemt/fenv/lib/python3.9/site-packages/torch/nn/parallel/_functions.py:68: UserWarning: Was asked to gather along dimension 0, but all input tensors were scalars; will instead unsqueeze and return a vector.\n",
      "  warnings.warn('Was asked to gather along dimension 0, but all '\n",
      "Saving model checkpoint to ../models/facebook/mbart-large-50-one-to-many-mmt-finetuned-covariate-lm-en-to-xx/checkpoint-1000\n",
      "Configuration saved in ../models/facebook/mbart-large-50-one-to-many-mmt-finetuned-covariate-lm-en-to-xx/checkpoint-1000/config.json\n",
      "Model weights saved in ../models/facebook/mbart-large-50-one-to-many-mmt-finetuned-covariate-lm-en-to-xx/checkpoint-1000/pytorch_model.bin\n",
      "tokenizer config file saved in ../models/facebook/mbart-large-50-one-to-many-mmt-finetuned-covariate-lm-en-to-xx/checkpoint-1000/tokenizer_config.json\n",
      "Special tokens file saved in ../models/facebook/mbart-large-50-one-to-many-mmt-finetuned-covariate-lm-en-to-xx/checkpoint-1000/special_tokens_map.json\n",
      "Deleting older checkpoint [../models/facebook/mbart-large-50-one-to-many-mmt-finetuned-covariate-lm-en-to-xx/checkpoint-500] due to args.save_total_limit\n",
      "/fs/clip-controllablemt/fenv/lib/python3.9/site-packages/torch/nn/parallel/_functions.py:68: UserWarning: Was asked to gather along dimension 0, but all input tensors were scalars; will instead unsqueeze and return a vector.\n",
      "  warnings.warn('Was asked to gather along dimension 0, but all '\n",
      "***** Running Evaluation *****\n",
      "  Num examples = 800\n",
      "  Batch size = 8\n",
      "Saving model checkpoint to ../models/facebook/mbart-large-50-one-to-many-mmt-finetuned-covariate-lm-en-to-xx/checkpoint-1050\n",
      "Configuration saved in ../models/facebook/mbart-large-50-one-to-many-mmt-finetuned-covariate-lm-en-to-xx/checkpoint-1050/config.json\n",
      "Model weights saved in ../models/facebook/mbart-large-50-one-to-many-mmt-finetuned-covariate-lm-en-to-xx/checkpoint-1050/pytorch_model.bin\n",
      "tokenizer config file saved in ../models/facebook/mbart-large-50-one-to-many-mmt-finetuned-covariate-lm-en-to-xx/checkpoint-1050/tokenizer_config.json\n",
      "Special tokens file saved in ../models/facebook/mbart-large-50-one-to-many-mmt-finetuned-covariate-lm-en-to-xx/checkpoint-1050/special_tokens_map.json\n",
      "Deleting older checkpoint [../models/facebook/mbart-large-50-one-to-many-mmt-finetuned-covariate-lm-en-to-xx/checkpoint-550] due to args.save_total_limit\n",
      "/fs/clip-controllablemt/fenv/lib/python3.9/site-packages/torch/nn/parallel/_functions.py:68: UserWarning: Was asked to gather along dimension 0, but all input tensors were scalars; will instead unsqueeze and return a vector.\n",
      "  warnings.warn('Was asked to gather along dimension 0, but all '\n",
      "Saving model checkpoint to ../models/facebook/mbart-large-50-one-to-many-mmt-finetuned-covariate-lm-en-to-xx/checkpoint-1100\n",
      "Configuration saved in ../models/facebook/mbart-large-50-one-to-many-mmt-finetuned-covariate-lm-en-to-xx/checkpoint-1100/config.json\n",
      "Model weights saved in ../models/facebook/mbart-large-50-one-to-many-mmt-finetuned-covariate-lm-en-to-xx/checkpoint-1100/pytorch_model.bin\n",
      "tokenizer config file saved in ../models/facebook/mbart-large-50-one-to-many-mmt-finetuned-covariate-lm-en-to-xx/checkpoint-1100/tokenizer_config.json\n",
      "Special tokens file saved in ../models/facebook/mbart-large-50-one-to-many-mmt-finetuned-covariate-lm-en-to-xx/checkpoint-1100/special_tokens_map.json\n",
      "Deleting older checkpoint [../models/facebook/mbart-large-50-one-to-many-mmt-finetuned-covariate-lm-en-to-xx/checkpoint-600] due to args.save_total_limit\n",
      "/fs/clip-controllablemt/fenv/lib/python3.9/site-packages/torch/nn/parallel/_functions.py:68: UserWarning: Was asked to gather along dimension 0, but all input tensors were scalars; will instead unsqueeze and return a vector.\n",
      "  warnings.warn('Was asked to gather along dimension 0, but all '\n",
      "***** Running Evaluation *****\n",
      "  Num examples = 800\n",
      "  Batch size = 8\n",
      "\n",
      "\n",
      "Training completed. Do not forget to share your model on huggingface.co/models =)\n",
      "\n",
      "\n"
     ]
    },
    {
     "data": {
      "text/plain": [
       "TrainOutput(global_step=1120, training_loss=1.022488158089774, metrics={'train_runtime': 7768.9117, 'train_samples_per_second': 4.634, 'train_steps_per_second': 0.144, 'total_flos': 7839354905690112.0, 'train_loss': 1.022488158089774, 'epoch': 10.0})"
      ]
     },
     "execution_count": 20,
     "metadata": {},
     "output_type": "execute_result"
    }
   ],
   "source": [
    "trainer.train()"
   ]
  },
  {
   "cell_type": "code",
   "execution_count": 23,
   "id": "96d26712",
   "metadata": {},
   "outputs": [
    {
     "name": "stderr",
     "output_type": "stream",
     "text": [
      "Saving model checkpoint to ../models/facebook/mbart-large-50-one-to-many-mmt-finetuned-covariate-lm-en-to-xx\n",
      "Configuration saved in ../models/facebook/mbart-large-50-one-to-many-mmt-finetuned-covariate-lm-en-to-xx/config.json\n",
      "Model weights saved in ../models/facebook/mbart-large-50-one-to-many-mmt-finetuned-covariate-lm-en-to-xx/pytorch_model.bin\n",
      "tokenizer config file saved in ../models/facebook/mbart-large-50-one-to-many-mmt-finetuned-covariate-lm-en-to-xx/tokenizer_config.json\n",
      "Special tokens file saved in ../models/facebook/mbart-large-50-one-to-many-mmt-finetuned-covariate-lm-en-to-xx/special_tokens_map.json\n"
     ]
    }
   ],
   "source": [
    "trainer.save_model(f\"../models/{model_name}-finetuned-covariate-lm-{src_lang}-to-xx\")"
   ]
  },
  {
   "cell_type": "code",
   "execution_count": null,
   "id": "046df384",
   "metadata": {},
   "outputs": [],
   "source": []
  }
 ],
 "metadata": {
  "kernelspec": {
   "display_name": "Python 3 (ipykernel)",
   "language": "python",
   "name": "python3"
  },
  "language_info": {
   "codemirror_mode": {
    "name": "ipython",
    "version": 3
   },
   "file_extension": ".py",
   "mimetype": "text/x-python",
   "name": "python",
   "nbconvert_exporter": "python",
   "pygments_lexer": "ipython3",
   "version": "3.9.6"
  }
 },
 "nbformat": 4,
 "nbformat_minor": 5
}
