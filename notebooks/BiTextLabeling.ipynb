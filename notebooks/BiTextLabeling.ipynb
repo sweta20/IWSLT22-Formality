{
 "cells": [
  {
   "cell_type": "code",
   "execution_count": 5,
   "id": "5abeb28e",
   "metadata": {},
   "outputs": [],
   "source": [
    "import pandas as pd\n",
    "\n",
    "df = pd.read_csv('../../jparacrawl/en-ja/en-ja.bicleaner05.txt', sep=\"\\t\", names=[\"prov\", \"score\", \"src\", \"tgt\"], nrows=100000)"
   ]
  },
  {
   "cell_type": "code",
   "execution_count": 6,
   "id": "68681b15",
   "metadata": {},
   "outputs": [
    {
     "data": {
      "text/html": [
       "<div>\n",
       "<style scoped>\n",
       "    .dataframe tbody tr th:only-of-type {\n",
       "        vertical-align: middle;\n",
       "    }\n",
       "\n",
       "    .dataframe tbody tr th {\n",
       "        vertical-align: top;\n",
       "    }\n",
       "\n",
       "    .dataframe thead th {\n",
       "        text-align: right;\n",
       "    }\n",
       "</style>\n",
       "<table border=\"1\" class=\"dataframe\">\n",
       "  <thead>\n",
       "    <tr style=\"text-align: right;\">\n",
       "      <th></th>\n",
       "      <th>prov</th>\n",
       "      <th>score</th>\n",
       "      <th>src</th>\n",
       "      <th>tgt</th>\n",
       "    </tr>\n",
       "  </thead>\n",
       "  <tbody>\n",
       "    <tr>\n",
       "      <th>0</th>\n",
       "      <td>www.snownavi.com</td>\n",
       "      <td>0.797</td>\n",
       "      <td>The rainy season began in the southern area of...</td>\n",
       "      <td>九州南部は平年並みの5/31(金)頃に梅雨入り。</td>\n",
       "    </tr>\n",
       "    <tr>\n",
       "      <th>1</th>\n",
       "      <td>www.pri.kyoto-u.ac.jp</td>\n",
       "      <td>0.796</td>\n",
       "      <td>Hope Report HOPE report Number:19-065 Prelimin...</td>\n",
       "      <td>Hope Report 事業報告 事業番号:19-065 中国南部の洞窟から見つかっている鮮...</td>\n",
       "    </tr>\n",
       "    <tr>\n",
       "      <th>2</th>\n",
       "      <td>yunphoto.net</td>\n",
       "      <td>0.795</td>\n",
       "      <td>Yun Free Stock Photos : No. 9702 The dusk of t...</td>\n",
       "      <td>ゆんフリー写真素材集 : No. 9702 日本海の夕暮れ [日本 / 島根]</td>\n",
       "    </tr>\n",
       "    <tr>\n",
       "      <th>3</th>\n",
       "      <td>yunphoto.net</td>\n",
       "      <td>0.795</td>\n",
       "      <td>Yun Free Stock Photos : No. 937 Christmas tree...</td>\n",
       "      <td>ゆんフリー写真素材集 : No. 937 クリスマスツリーと青空 [日本 / 北海道]</td>\n",
       "    </tr>\n",
       "    <tr>\n",
       "      <th>4</th>\n",
       "      <td>yunphoto.net</td>\n",
       "      <td>0.795</td>\n",
       "      <td>Yun Free Stock Photos : No. 852 Full view of A...</td>\n",
       "      <td>ゆんフリー写真素材集 : No. 852 アルカトラズ島全景 [アメリカ / サンフランシスコ]</td>\n",
       "    </tr>\n",
       "  </tbody>\n",
       "</table>\n",
       "</div>"
      ],
      "text/plain": [
       "                    prov  score  \\\n",
       "0       www.snownavi.com  0.797   \n",
       "1  www.pri.kyoto-u.ac.jp  0.796   \n",
       "2           yunphoto.net  0.795   \n",
       "3           yunphoto.net  0.795   \n",
       "4           yunphoto.net  0.795   \n",
       "\n",
       "                                                 src  \\\n",
       "0  The rainy season began in the southern area of...   \n",
       "1  Hope Report HOPE report Number:19-065 Prelimin...   \n",
       "2  Yun Free Stock Photos : No. 9702 The dusk of t...   \n",
       "3  Yun Free Stock Photos : No. 937 Christmas tree...   \n",
       "4  Yun Free Stock Photos : No. 852 Full view of A...   \n",
       "\n",
       "                                                 tgt  \n",
       "0                           九州南部は平年並みの5/31(金)頃に梅雨入り。  \n",
       "1  Hope Report 事業報告 事業番号:19-065 中国南部の洞窟から見つかっている鮮...  \n",
       "2            ゆんフリー写真素材集 : No. 9702 日本海の夕暮れ [日本 / 島根]  \n",
       "3        ゆんフリー写真素材集 : No. 937 クリスマスツリーと青空 [日本 / 北海道]  \n",
       "4   ゆんフリー写真素材集 : No. 852 アルカトラズ島全景 [アメリカ / サンフランシスコ]  "
      ]
     },
     "execution_count": 6,
     "metadata": {},
     "output_type": "execute_result"
    }
   ],
   "source": [
    "df.head()"
   ]
  },
  {
   "cell_type": "code",
   "execution_count": null,
   "id": "a89b6401",
   "metadata": {},
   "outputs": [],
   "source": [
    "def segment_target()"
   ]
  },
  {
   "cell_type": "code",
   "execution_count": 8,
   "id": "d7816ce5",
   "metadata": {},
   "outputs": [
    {
     "data": {
      "text/plain": [
       "<AxesSubplot:>"
      ]
     },
     "execution_count": 8,
     "metadata": {},
     "output_type": "execute_result"
    },
    {
     "data": {
      "image/png": "[encoded data removed]",
      "text/plain": [
       "<Figure size 432x288 with 1 Axes>"
      ]
     },
     "metadata": {
      "needs_background": "light"
     },
     "output_type": "display_data"
    }
   ],
   "source": [
    "df[\"score\"].plot()"
   ]
  },
  {
   "cell_type": "code",
   "execution_count": null,
   "id": "24a0191a",
   "metadata": {},
   "outputs": [],
   "source": []
  }
 ],
 "metadata": {
  "kernelspec": {
   "display_name": "Python 3 (ipykernel)",
   "language": "python",
   "name": "python3"
  },
  "language_info": {
   "codemirror_mode": {
    "name": "ipython",
    "version": 3
   },
   "file_extension": ".py",
   "mimetype": "text/x-python",
   "name": "python",
   "nbconvert_exporter": "python",
   "pygments_lexer": "ipython3",
   "version": "3.9.6"
  }
 },
 "nbformat": 4,
 "nbformat_minor": 5
}
