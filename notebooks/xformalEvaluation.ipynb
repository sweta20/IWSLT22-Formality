{
 "cells": [
  {
   "cell_type": "code",
   "execution_count": 1,
   "id": "7da77727",
   "metadata": {},
   "outputs": [],
   "source": [
    "import sys\n",
    "sys.path.append(\"/fs/clip-controllablemt/IWSLT2022/scripts\")"
   ]
  },
  {
   "cell_type": "code",
   "execution_count": 2,
   "id": "c106f235",
   "metadata": {},
   "outputs": [],
   "source": [
    "from transformers import (\n",
    "    AutoConfig,\n",
    "    AutoModelForSequenceClassification,\n",
    "    AutoTokenizer\n",
    ")\n",
    "import torch"
   ]
  },
  {
   "cell_type": "code",
   "execution_count": 3,
   "id": "18e1cbd4",
   "metadata": {},
   "outputs": [],
   "source": [
    "def read_file(fname):\n",
    "    data = []\n",
    "    with open(fname) as f:\n",
    "        for line in f:\n",
    "            data.append(line.strip())\n",
    "    return data\n",
    "\n",
    "def get_data(tgt_lang, domain, split):\n",
    "    source = read_file(f\"../internal_split/en-{tgt_lang}/{split}.{domain}.en\")\n",
    "    formal_translations = read_file(f\"../internal_split/en-{tgt_lang}/{split}.{domain}.formal.{tgt_lang}\")\n",
    "    informal_translations = read_file(f\"../internal_split/en-{tgt_lang}/{split}.{domain}.informal.{tgt_lang}\")\n",
    "    return source, formal_translations, informal_translations"
   ]
  },
  {
   "cell_type": "code",
   "execution_count": 4,
   "id": "938fca9a",
   "metadata": {},
   "outputs": [],
   "source": [
    "source, formal_translations, informal_translations = get_data(\"hi\", \"combined\", \"train\")"
   ]
  },
  {
   "cell_type": "code",
   "execution_count": 5,
   "id": "fd29ded4",
   "metadata": {},
   "outputs": [],
   "source": [
    "model_dir=\"/fs/clip-controllablemt/IWSLT2022/models/xformal-regressor\"\n",
    "is_regression=True\n",
    "cache_dir=\"/fs/clip-scratch/sweagraw/CACHE_en\""
   ]
  },
  {
   "cell_type": "code",
   "execution_count": 6,
   "id": "996ff503",
   "metadata": {},
   "outputs": [],
   "source": [
    "if is_regression:\n",
    "    num_labels=1\n",
    "else:\n",
    "    num_labels=2"
   ]
  },
  {
   "cell_type": "code",
   "execution_count": 7,
   "id": "dc271df8",
   "metadata": {},
   "outputs": [],
   "source": [
    "config = AutoConfig.from_pretrained(\n",
    "        model_dir,\n",
    "        num_labels=num_labels,\n",
    "        cache_dir=cache_dir)\n",
    "tokenizer = AutoTokenizer.from_pretrained(model_dir, use_fast=False)\n",
    "model = AutoModelForSequenceClassification.from_pretrained(\n",
    "    model_dir,\n",
    "    from_tf=bool(\".ckpt\" in model_dir),\n",
    "    config=config,\n",
    "    cache_dir=cache_dir)"
   ]
  },
  {
   "cell_type": "code",
   "execution_count": 36,
   "id": "b951d1fd",
   "metadata": {},
   "outputs": [],
   "source": [
    "def classify(text):\n",
    "    model_inputs = tokenizer(text, return_tensors=\"pt\")\n",
    "    logits=model(**model_inputs).logits\n",
    "    return torch.softmax(logits, dim=1).tolist()[0]"
   ]
  },
  {
   "cell_type": "code",
   "execution_count": 38,
   "id": "0f850baa",
   "metadata": {},
   "outputs": [
    {
     "data": {
      "text/plain": [
       "[1.0]"
      ]
     },
     "execution_count": 38,
     "metadata": {},
     "output_type": "execute_result"
    }
   ],
   "source": [
    "classify(source[0])"
   ]
  },
  {
   "cell_type": "markdown",
   "id": "3be50bd8",
   "metadata": {},
   "source": [
    "Plot scores"
   ]
  },
  {
   "cell_type": "code",
   "execution_count": 5,
   "id": "9568d8c6",
   "metadata": {},
   "outputs": [],
   "source": [
    "import glob\n",
    "import matplotlib.pyplot as plt\n",
    "import seaborn as sns"
   ]
  },
  {
   "cell_type": "code",
   "execution_count": 6,
   "id": "82f44b3f",
   "metadata": {},
   "outputs": [],
   "source": [
    "def read_scores(fname):\n",
    "    data = []\n",
    "    with open(fname) as f:\n",
    "        for line in f:\n",
    "            data.append(float(line.strip()))\n",
    "    return data"
   ]
  },
  {
   "cell_type": "code",
   "execution_count": 7,
   "id": "06ac0063",
   "metadata": {},
   "outputs": [],
   "source": [
    "scores_dict = {}\n",
    "for dir_name in glob.glob(\"../internal_split/*\"):\n",
    "    scores_dict[dir_name.split(\"/\")[-1]] = {}\n",
    "    for file_name in glob.glob(dir_name + \"/*\"):\n",
    "        if file_name.endswith(\".scores\") and \"combined\" in file_name:\n",
    "            scores_dict[dir_name.split(\"/\")[-1]][file_name.split(\"/\")[-1]] = read_scores(file_name)"
   ]
  },
  {
   "cell_type": "code",
   "execution_count": 8,
   "id": "67b8f2d4",
   "metadata": {},
   "outputs": [],
   "source": [
    "# source formality train and dev\n",
    "import numpy as np\n",
    "\n",
    "def get_accuracy(scores_formal, scores_informal):\n",
    "    print(\"Formal\", sum(np.array(scores_formal) < 0.5)/ len(scores_formal))\n",
    "    print(\"InFormal\", sum(np.array(scores_informal) > 0.5)/ len(scores_informal))\n",
    "\n",
    "def plot_scores(lang):\n",
    "    src, tgt = lang.split(\"-\")\n",
    "    scores_src = scores_dict[lang]['dev.combined.' + src + '.scores']\n",
    "    scores_formal = scores_dict[lang]['dev.combined.formal.' + tgt + '.finetune.scores']\n",
    "    scores_informal = scores_dict[lang]['dev.combined.informal.' + tgt + '.finetune.scores']  \n",
    "    get_accuracy(scores_formal, scores_informal)\n",
    "    for data in [scores_src, scores_formal, scores_informal]:\n",
    "        sns.histplot(data)\n",
    "        plt.show()"
   ]
  },
  {
   "cell_type": "code",
   "execution_count": 9,
   "id": "18dce75e",
   "metadata": {},
   "outputs": [
    {
     "name": "stdout",
     "output_type": "stream",
     "text": [
      "Formal 0.98\n",
      "InFormal 0.99\n"
     ]
    },
    {
     "data": {
      "image/png": "[encoded data removed]",
      "text/plain": [
       "<Figure size 432x288 with 1 Axes>"
      ]
     },
     "metadata": {
      "needs_background": "light"
     },
     "output_type": "display_data"
    },
    {
     "data": {
      "image/png": "[encoded data removed]",
      "text/plain": [
       "<Figure size 432x288 with 1 Axes>"
      ]
     },
     "metadata": {
      "needs_background": "light"
     },
     "output_type": "display_data"
    },
    {
     "data": {
      "image/png": "[encoded data removed]",
      "text/plain": [
       "<Figure size 432x288 with 1 Axes>"
      ]
     },
     "metadata": {
      "needs_background": "light"
     },
     "output_type": "display_data"
    }
   ],
   "source": [
    "plot_scores('en-de')"
   ]
  },
  {
   "cell_type": "code",
   "execution_count": 10,
   "id": "42f991f9",
   "metadata": {},
   "outputs": [
    {
     "name": "stdout",
     "output_type": "stream",
     "text": [
      "Formal 0.98\n",
      "InFormal 0.98\n"
     ]
    },
    {
     "data": {
      "image/png": "[encoded data removed]",
      "text/plain": [
       "<Figure size 432x288 with 1 Axes>"
      ]
     },
     "metadata": {
      "needs_background": "light"
     },
     "output_type": "display_data"
    },
    {
     "data": {
      "image/png": "[encoded data removed]",
      "text/plain": [
       "<Figure size 432x288 with 1 Axes>"
      ]
     },
     "metadata": {
      "needs_background": "light"
     },
     "output_type": "display_data"
    },
    {
     "data": {
      "image/png": "[encoded data removed]",
      "text/plain": [
       "<Figure size 432x288 with 1 Axes>"
      ]
     },
     "metadata": {
      "needs_background": "light"
     },
     "output_type": "display_data"
    }
   ],
   "source": [
    "plot_scores('en-ja')"
   ]
  },
  {
   "cell_type": "code",
   "execution_count": 11,
   "id": "89a207ac",
   "metadata": {},
   "outputs": [
    {
     "name": "stdout",
     "output_type": "stream",
     "text": [
      "Formal 0.96\n",
      "InFormal 0.95\n"
     ]
    },
    {
     "data": {
      "image/png": "[encoded data removed]",
      "text/plain": [
       "<Figure size 432x288 with 1 Axes>"
      ]
     },
     "metadata": {
      "needs_background": "light"
     },
     "output_type": "display_data"
    },
    {
     "data": {
      "image/png": "[encoded data removed]",
      "text/plain": [
       "<Figure size 432x288 with 1 Axes>"
      ]
     },
     "metadata": {
      "needs_background": "light"
     },
     "output_type": "display_data"
    },
    {
     "data": {
      "image/png": "[encoded data removed]",
      "text/plain": [
       "<Figure size 432x288 with 1 Axes>"
      ]
     },
     "metadata": {
      "needs_background": "light"
     },
     "output_type": "display_data"
    }
   ],
   "source": [
    "plot_scores('en-hi')"
   ]
  },
  {
   "cell_type": "code",
   "execution_count": 12,
   "id": "2c53018e",
   "metadata": {},
   "outputs": [
    {
     "name": "stdout",
     "output_type": "stream",
     "text": [
      "Formal 0.99\n",
      "InFormal 0.92\n"
     ]
    },
    {
     "data": {
      "image/png": "[encoded data removed]",
      "text/plain": [
       "<Figure size 432x288 with 1 Axes>"
      ]
     },
     "metadata": {
      "needs_background": "light"
     },
     "output_type": "display_data"
    },
    {
     "data": {
      "image/png": "[encoded data removed]",
      "text/plain": [
       "<Figure size 432x288 with 1 Axes>"
      ]
     },
     "metadata": {
      "needs_background": "light"
     },
     "output_type": "display_data"
    },
    {
     "data": {
      "image/png": "[encoded data removed]",
      "text/plain": [
       "<Figure size 432x288 with 1 Axes>"
      ]
     },
     "metadata": {
      "needs_background": "light"
     },
     "output_type": "display_data"
    }
   ],
   "source": [
    "plot_scores('en-es')"
   ]
  },
  {
   "cell_type": "code",
   "execution_count": null,
   "id": "f1b5230b",
   "metadata": {},
   "outputs": [],
   "source": []
  },
  {
   "cell_type": "code",
   "execution_count": null,
   "id": "10ea73aa",
   "metadata": {},
   "outputs": [],
   "source": []
  }
 ],
 "metadata": {
  "kernelspec": {
   "display_name": "Python 3 (ipykernel)",
   "language": "python",
   "name": "python3"
  },
  "language_info": {
   "codemirror_mode": {
    "name": "ipython",
    "version": 3
   },
   "file_extension": ".py",
   "mimetype": "text/x-python",
   "name": "python",
   "nbconvert_exporter": "python",
   "pygments_lexer": "ipython3",
   "version": "3.9.6"
  }
 },
 "nbformat": 4,
 "nbformat_minor": 5
}
