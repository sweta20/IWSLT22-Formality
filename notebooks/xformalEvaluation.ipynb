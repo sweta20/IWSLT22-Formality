{
 "cells": [
  {
   "cell_type": "code",
   "execution_count": 1,
   "id": "7da77727",
   "metadata": {},
   "outputs": [],
   "source": [
    "import sys\n",
    "sys.path.append(\"/fs/clip-controllablemt/IWSLT2022/scripts\")"
   ]
  },
  {
   "cell_type": "code",
   "execution_count": 2,
   "id": "c106f235",
   "metadata": {},
   "outputs": [],
   "source": [
    "from transformers import (\n",
    "    AutoConfig,\n",
    "    AutoModelForSequenceClassification,\n",
    "    AutoTokenizer\n",
    ")\n",
    "import torch"
   ]
  },
  {
   "cell_type": "code",
   "execution_count": 3,
   "id": "18e1cbd4",
   "metadata": {},
   "outputs": [],
   "source": [
    "def read_file(fname):\n",
    "    data = []\n",
    "    with open(fname) as f:\n",
    "        for line in f:\n",
    "            data.append(line.strip())\n",
    "    return data\n",
    "\n",
    "def get_data(tgt_lang, domain, split):\n",
    "    source = read_file(f\"../internal_split/en-{tgt_lang}/{split}.{domain}.en\")\n",
    "    formal_translations = read_file(f\"../internal_split/en-{tgt_lang}/{split}.{domain}.formal.{tgt_lang}\")\n",
    "    informal_translations = read_file(f\"../internal_split/en-{tgt_lang}/{split}.{domain}.informal.{tgt_lang}\")\n",
    "    return source, formal_translations, informal_translations"
   ]
  },
  {
   "cell_type": "code",
   "execution_count": 4,
   "id": "938fca9a",
   "metadata": {},
   "outputs": [],
   "source": [
    "source, formal_translations, informal_translations = get_data(\"hi\", \"combined\", \"train\")"
   ]
  },
  {
   "cell_type": "code",
   "execution_count": 5,
   "id": "fd29ded4",
   "metadata": {},
   "outputs": [],
   "source": [
    "model_dir=\"/fs/clip-controllablemt/IWSLT2022/models/xformal-regressor\"\n",
    "is_regression=True\n",
    "cache_dir=\"/fs/clip-scratch/sweagraw/CACHE_en\""
   ]
  },
  {
   "cell_type": "code",
   "execution_count": 13,
   "id": "996ff503",
   "metadata": {},
   "outputs": [],
   "source": [
    "if is_regression:\n",
    "    num_labels=1\n",
    "else:\n",
    "    num_labels=2"
   ]
  },
  {
   "cell_type": "code",
   "execution_count": 14,
   "id": "dc271df8",
   "metadata": {},
   "outputs": [],
   "source": [
    "config = AutoConfig.from_pretrained(\n",
    "        model_dir,\n",
    "        num_labels=num_labels,\n",
    "        cache_dir=cache_dir)\n",
    "tokenizer = AutoTokenizer.from_pretrained(model_dir, use_fast=False)\n",
    "model = AutoModelForSequenceClassification.from_pretrained(\n",
    "    model_dir,\n",
    "    from_tf=bool(\".ckpt\" in model_dir),\n",
    "    config=config,\n",
    "    cache_dir=cache_dir)"
   ]
  },
  {
   "cell_type": "code",
   "execution_count": 15,
   "id": "c95f99bf",
   "metadata": {},
   "outputs": [
    {
     "data": {
      "text/plain": [
       "2"
      ]
     },
     "execution_count": 15,
     "metadata": {},
     "output_type": "execute_result"
    }
   ],
   "source": [
    "num_labels"
   ]
  },
  {
   "cell_type": "code",
   "execution_count": 9,
   "id": "b951d1fd",
   "metadata": {},
   "outputs": [],
   "source": [
    "def classify(text):\n",
    "    model_inputs = tokenizer(text, return_tensors=\"pt\")\n",
    "    logits=model(**model_inputs).logits\n",
    "    return torch.softmax(logits, dim=1).tolist()[0]"
   ]
  },
  {
   "cell_type": "code",
   "execution_count": null,
   "id": "0f850baa",
   "metadata": {},
   "outputs": [],
   "source": [
    "classify(source[0])"
   ]
  },
  {
   "cell_type": "markdown",
   "id": "3be50bd8",
   "metadata": {},
   "source": [
    "Plot scores"
   ]
  },
  {
   "cell_type": "code",
   "execution_count": 31,
   "id": "9568d8c6",
   "metadata": {},
   "outputs": [],
   "source": [
    "import glob\n",
    "import matplotlib.pyplot as plt\n",
    "import seaborn as sns"
   ]
  },
  {
   "cell_type": "code",
   "execution_count": 32,
   "id": "82f44b3f",
   "metadata": {},
   "outputs": [],
   "source": [
    "def read_scores(fname):\n",
    "    data = []\n",
    "    with open(fname) as f:\n",
    "        for line in f:\n",
    "            data.append(float(line.strip()))\n",
    "    return data"
   ]
  },
  {
   "cell_type": "code",
   "execution_count": 33,
   "id": "06ac0063",
   "metadata": {},
   "outputs": [],
   "source": [
    "scores_dict = {}\n",
    "for dir_name in glob.glob(\"../internal_split/*\"):\n",
    "    scores_dict[dir_name.split(\"/\")[-1]] = {}\n",
    "    for file_name in glob.glob(dir_name + \"/*\"):\n",
    "        if file_name.endswith(\".scores\") and \"combined\" in file_name:\n",
    "            scores_dict[dir_name.split(\"/\")[-1]][file_name.split(\"/\")[-1]] = read_scores(file_name)"
   ]
  },
  {
   "cell_type": "code",
   "execution_count": 61,
   "id": "67b8f2d4",
   "metadata": {},
   "outputs": [],
   "source": [
    "# source formality train and dev\n",
    "import numpy as np\n",
    "\n",
    "def get_accuracy(scores_formal, scores_informal, classify=True, threshold=0.5):\n",
    "    if classify:\n",
    "        print(\"Formal\", sum(np.array(scores_formal) < threshold)/ len(scores_formal))\n",
    "        print(\"InFormal\", sum(np.array(scores_informal) > threshold)/ len(scores_informal))\n",
    "    else:\n",
    "        print(\"Formal\", sum(np.array(scores_formal) > threshold)/ len(scores_formal))\n",
    "        print(\"InFormal\", sum(np.array(scores_informal) < threshold)/ len(scores_informal))\n",
    "\n",
    "def plot_scores(lang):\n",
    "    src, tgt = lang.split(\"-\")\n",
    "    scores_src = scores_dict[lang]['dev.combined.' + src + '.scores']\n",
    "    scores_formal = scores_dict[lang]['dev.combined.formal.' + tgt + '.scores']\n",
    "    scores_informal = scores_dict[lang]['dev.combined.informal.' + tgt + '.scores']  \n",
    "    get_accuracy(scores_formal, scores_informal)\n",
    "    sns.histplot([1-x for x in scores_informal])\n",
    "    plt.show()\n",
    "    sns.histplot(scores_informal)\n",
    "    plt.show()"
   ]
  },
  {
   "cell_type": "code",
   "execution_count": 62,
   "id": "18dce75e",
   "metadata": {},
   "outputs": [
    {
     "name": "stdout",
     "output_type": "stream",
     "text": [
      "Formal 0.96\n",
      "InFormal 0.1\n"
     ]
    },
    {
     "data": {
      "image/png": "[encoded data removed]",
      "text/plain": [
       "<Figure size 432x288 with 1 Axes>"
      ]
     },
     "metadata": {
      "needs_background": "light"
     },
     "output_type": "display_data"
    },
    {
     "name": "stdout",
     "output_type": "stream",
     "text": [
      "[0.0037268430460244417, 0.0012994027929380536, 0.0012998947640880942, 0.0013027144595980644, 0.1271486133337021, 0.0012960260501131415, 0.0013360469602048397, 0.0012966395588591695, 0.001297634094953537, 0.0013082704972475767, 0.0014030601596459746, 0.0013010683469474316, 0.0013103062519803643, 0.014979634433984756, 0.001298551564104855, 0.0012993431882932782, 0.001297808368690312, 0.0012983640190213919, 0.06269002705812454, 0.0012967927614226937, 0.06690430641174316, 0.001298496383242309, 0.0012966926442459226, 0.9407626986503601, 0.21181030571460724, 0.0013729806523770094, 0.0012985094217583537, 0.0012976712314411998, 0.0013069839915260673, 0.001316053792834282, 0.001298230024985969, 0.001302997930906713, 0.0013009858084842563, 0.0012986022047698498, 0.0013036857126280665, 0.0012964124325662851, 0.0013176880311220884, 0.00129616423510015, 0.001318227732554078, 0.0012971879914402962, 0.0013029153924435377, 0.007159879431128502, 0.0012969328090548515, 0.002089486690238118, 0.0012974932324141264, 0.0012990926625207067, 0.001305118785239756, 0.001304424018599093, 0.0012981421314179897, 0.0013011401752009988, 0.03251116722822189, 0.016644639894366264, 0.21978792548179626, 0.22517381608486176, 0.0012964006746187806, 0.0013458064058795571, 0.034495119005441666, 0.0012961376924067736, 0.0013595386408269405, 0.0014420191291719675, 0.0012955347774550319, 0.9222240447998047, 0.009018924087285995, 0.4446415305137634, 0.0012957050930708647, 0.0013031064299866557, 0.0012995010474696755, 0.0013176414649933577, 0.1708836853504181, 0.02153393253684044, 0.9018943905830383, 0.0015702492091804743, 0.09241469949483871, 0.9691835045814514, 0.0012985997600480914, 0.001296644564718008, 0.0013012654380872846, 0.0012954706326127052, 0.43182507157325745, 0.0013098837807774544, 0.8413552641868591, 0.0012974945129826665, 0.0012962358305230737, 0.04315029829740524, 0.0012974493438377976, 0.9240670800209045, 0.9826532602310181, 0.9048260450363159, 0.002041713334619999, 0.6815913915634155, 0.26698198914527893, 0.2284076064825058, 0.0012959814630448818, 0.5478349924087524, 0.0012998675229027867, 0.0012966414215043187, 0.0012953298864886165, 0.17826838791370392, 0.001298014190979302, 0.0013040060875937343]\n"
     ]
    },
    {
     "data": {
      "image/png": "[encoded data removed]",
      "text/plain": [
       "<Figure size 432x288 with 1 Axes>"
      ]
     },
     "metadata": {
      "needs_background": "light"
     },
     "output_type": "display_data"
    }
   ],
   "source": [
    "plot_scores('en-de')"
   ]
  },
  {
   "cell_type": "code",
   "execution_count": 58,
   "id": "42f991f9",
   "metadata": {},
   "outputs": [
    {
     "name": "stdout",
     "output_type": "stream",
     "text": [
      "Formal 0.75\n",
      "InFormal 0.33\n"
     ]
    },
    {
     "data": {
      "image/png": "[encoded data removed]",
      "text/plain": [
       "<Figure size 432x288 with 1 Axes>"
      ]
     },
     "metadata": {
      "needs_background": "light"
     },
     "output_type": "display_data"
    },
    {
     "data": {
      "image/png": "[encoded data removed]",
      "text/plain": [
       "<Figure size 432x288 with 1 Axes>"
      ]
     },
     "metadata": {
      "needs_background": "light"
     },
     "output_type": "display_data"
    }
   ],
   "source": [
    "plot_scores('en-ja')"
   ]
  },
  {
   "cell_type": "code",
   "execution_count": 59,
   "id": "89a207ac",
   "metadata": {},
   "outputs": [
    {
     "name": "stdout",
     "output_type": "stream",
     "text": [
      "Formal 0.44\n",
      "InFormal 0.6\n"
     ]
    },
    {
     "data": {
      "image/png": "[encoded data removed]",
      "text/plain": [
       "<Figure size 432x288 with 1 Axes>"
      ]
     },
     "metadata": {
      "needs_background": "light"
     },
     "output_type": "display_data"
    },
    {
     "data": {
      "image/png": "[encoded data removed]",
      "text/plain": [
       "<Figure size 432x288 with 1 Axes>"
      ]
     },
     "metadata": {
      "needs_background": "light"
     },
     "output_type": "display_data"
    }
   ],
   "source": [
    "plot_scores('en-hi')"
   ]
  },
  {
   "cell_type": "code",
   "execution_count": 60,
   "id": "2c53018e",
   "metadata": {},
   "outputs": [
    {
     "name": "stdout",
     "output_type": "stream",
     "text": [
      "Formal 0.77\n",
      "InFormal 0.24\n"
     ]
    },
    {
     "data": {
      "image/png": "[encoded data removed]",
      "text/plain": [
       "<Figure size 432x288 with 1 Axes>"
      ]
     },
     "metadata": {
      "needs_background": "light"
     },
     "output_type": "display_data"
    },
    {
     "data": {
      "image/png": "[encoded data removed]",
      "text/plain": [
       "<Figure size 432x288 with 1 Axes>"
      ]
     },
     "metadata": {
      "needs_background": "light"
     },
     "output_type": "display_data"
    }
   ],
   "source": [
    "plot_scores('en-es')"
   ]
  },
  {
   "cell_type": "code",
   "execution_count": null,
   "id": "661fcdba",
   "metadata": {},
   "outputs": [],
   "source": []
  },
  {
   "cell_type": "markdown",
   "id": "12c045e5",
   "metadata": {},
   "source": [
    "Evaluate formality classifiers"
   ]
  },
  {
   "cell_type": "code",
   "execution_count": 10,
   "id": "4d1143e9",
   "metadata": {},
   "outputs": [],
   "source": [
    "formal = read_file(\"../../synthetic/de_en_formal.tsv\")\n",
    "informal = read_file(\"../../synthetic/de_en_informal.tsv\")"
   ]
  },
  {
   "cell_type": "code",
   "execution_count": 11,
   "id": "ab69ba4e",
   "metadata": {},
   "outputs": [],
   "source": [
    "model_dir=\"/fs/clip-controllablemt/IWSLT2022/models/xformal-classifier-de\"\n",
    "is_regression=False\n",
    "cache_dir=\"/fs/clip-scratch/sweagraw/CACHE\""
   ]
  },
  {
   "cell_type": "code",
   "execution_count": null,
   "id": "10ea73aa",
   "metadata": {},
   "outputs": [],
   "source": [
    "formal_labels = []\n",
    "for f in formal:\n",
    "    formal_labels.append(classify(f))"
   ]
  },
  {
   "cell_type": "code",
   "execution_count": null,
   "id": "3352528a",
   "metadata": {},
   "outputs": [],
   "source": [
    "informal_labels = []\n",
    "for f in informal:\n",
    "    informal_labels.append(classify(f))"
   ]
  },
  {
   "cell_type": "code",
   "execution_count": 63,
   "id": "00980888",
   "metadata": {},
   "outputs": [
    {
     "data": {
      "text/plain": [
       "<AxesSubplot:ylabel='Count'>"
      ]
     },
     "execution_count": 63,
     "metadata": {},
     "output_type": "execute_result"
    },
    {
     "data": {
      "image/png": "[encoded data removed]",
      "text/plain": [
       "<Figure size 432x288 with 1 Axes>"
      ]
     },
     "metadata": {
      "needs_background": "light"
     },
     "output_type": "display_data"
    }
   ],
   "source": [
    "import seaborn as sns\n",
    "import numpy as np\n",
    "sns.histplot((1-np.array(formal_labels))[:, 0])"
   ]
  },
  {
   "cell_type": "code",
   "execution_count": 25,
   "id": "d914769f",
   "metadata": {},
   "outputs": [
    {
     "data": {
      "text/plain": [
       "<AxesSubplot:ylabel='Count'>"
      ]
     },
     "execution_count": 25,
     "metadata": {},
     "output_type": "execute_result"
    },
    {
     "data": {
      "image/png": "[encoded data removed]",
      "text/plain": [
       "<Figure size 432x288 with 1 Axes>"
      ]
     },
     "metadata": {
      "needs_background": "light"
     },
     "output_type": "display_data"
    }
   ],
   "source": [
    "import seaborn as sns\n",
    "import numpy as np\n",
    "sns.histplot(np.array(informal_labels)[:, 0])"
   ]
  },
  {
   "cell_type": "code",
   "execution_count": null,
   "id": "ce6eedd6",
   "metadata": {},
   "outputs": [],
   "source": []
  }
 ],
 "metadata": {
  "kernelspec": {
   "display_name": "Python 3 (ipykernel)",
   "language": "python",
   "name": "python3"
  },
  "language_info": {
   "codemirror_mode": {
    "name": "ipython",
    "version": 3
   },
   "file_extension": ".py",
   "mimetype": "text/x-python",
   "name": "python",
   "nbconvert_exporter": "python",
   "pygments_lexer": "ipython3",
   "version": "3.9.6"
  }
 },
 "nbformat": 4,
 "nbformat_minor": 5
}
