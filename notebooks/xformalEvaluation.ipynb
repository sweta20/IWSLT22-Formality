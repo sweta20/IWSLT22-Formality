{
 "cells": [
  {
   "cell_type": "code",
   "execution_count": 1,
   "id": "7da77727",
   "metadata": {},
   "outputs": [],
   "source": [
    "import sys\n",
    "sys.path.append(\"/fs/clip-controllablemt/IWSLT2022/scripts\")"
   ]
  },
  {
   "cell_type": "code",
   "execution_count": 2,
   "id": "c106f235",
   "metadata": {},
   "outputs": [],
   "source": [
    "from transformers import (\n",
    "    AutoConfig,\n",
    "    AutoModelForSequenceClassification,\n",
    "    AutoTokenizer\n",
    ")\n",
    "import torch"
   ]
  },
  {
   "cell_type": "code",
   "execution_count": 6,
   "id": "50d158e2",
   "metadata": {},
   "outputs": [],
   "source": [
    "import glob\n",
    "import numpy as np\n",
    "import matplotlib.pyplot as plt\n",
    "import seaborn as sns\n",
    "import pandas as pd\n",
    "from tqdm import tqdm\n",
    "tqdm.pandas()"
   ]
  },
  {
   "cell_type": "code",
   "execution_count": 2,
   "id": "18e1cbd4",
   "metadata": {},
   "outputs": [],
   "source": [
    "def read_file(fname, n=None):\n",
    "    data = []\n",
    "    i = 0\n",
    "    with open(fname) as f:\n",
    "        for line in f:\n",
    "            data.append(line.strip())\n",
    "            i+=1\n",
    "            if n is not None and i > n:\n",
    "                break\n",
    "    return data\n",
    "\n",
    "def read_scores(fname):\n",
    "    data = []\n",
    "    with open(fname) as f:\n",
    "        for line in f:\n",
    "            data.append(float(line.strip()))\n",
    "    return data\n",
    "\n",
    "def get_data(tgt_lang, domain, split):\n",
    "    source = read_file(f\"../internal_split/en-{tgt_lang}/{split}.{domain}.en\")\n",
    "    formal_translations = read_file(f\"../internal_split/en-{tgt_lang}/{split}.{domain}.formal.{tgt_lang}\")\n",
    "    informal_translations = read_file(f\"../internal_split/en-{tgt_lang}/{split}.{domain}.informal.{tgt_lang}\")\n",
    "    return source, formal_translations, informal_translations"
   ]
  },
  {
   "cell_type": "code",
   "execution_count": 5,
   "id": "fd29ded4",
   "metadata": {},
   "outputs": [],
   "source": [
    "cache_dir=\"/fs/clip-scratch/sweagraw/CACHE_en\""
   ]
  },
  {
   "cell_type": "code",
   "execution_count": 6,
   "id": "dc271df8",
   "metadata": {},
   "outputs": [],
   "source": [
    "def get_model(model_dir, is_regression=False):\n",
    "    if is_regression:\n",
    "        num_labels=1\n",
    "    else:\n",
    "        num_labels=2\n",
    "\n",
    "    config = AutoConfig.from_pretrained(\n",
    "            model_dir,\n",
    "            num_labels=num_labels,\n",
    "            cache_dir=cache_dir)\n",
    "    tokenizer = AutoTokenizer.from_pretrained(model_dir, use_fast=False)\n",
    "    model = AutoModelForSequenceClassification.from_pretrained(\n",
    "        model_dir,\n",
    "        from_tf=bool(\".ckpt\" in model_dir),\n",
    "        config=config,\n",
    "        cache_dir=cache_dir)\n",
    "    return model, tokenizer"
   ]
  },
  {
   "cell_type": "code",
   "execution_count": 7,
   "id": "b951d1fd",
   "metadata": {},
   "outputs": [],
   "source": [
    "def classify(text):\n",
    "    model_inputs = tokenizer(text, return_tensors=\"pt\",truncation=True, padding=True, max_length=200)\n",
    "    logits=model(**model_inputs).logits\n",
    "    return torch.softmax(logits, dim=1).tolist()[0]"
   ]
  },
  {
   "cell_type": "markdown",
   "id": "5a7c6adc",
   "metadata": {},
   "source": [
    "# Test example"
   ]
  },
  {
   "cell_type": "code",
   "execution_count": null,
   "id": "938fca9a",
   "metadata": {},
   "outputs": [],
   "source": [
    "source, formal_translations, informal_translations = get_data(\"hi\", \"combined\", \"train\")"
   ]
  },
  {
   "cell_type": "code",
   "execution_count": null,
   "id": "81236539",
   "metadata": {},
   "outputs": [],
   "source": [
    "model, tokenizer = get_model(\"/fs/clip-controllablemt/IWSLT2022/models/xformal-classifier\")"
   ]
  },
  {
   "cell_type": "code",
   "execution_count": null,
   "id": "0f850baa",
   "metadata": {},
   "outputs": [],
   "source": [
    "classify(source[0])"
   ]
  },
  {
   "cell_type": "markdown",
   "id": "3be50bd8",
   "metadata": {},
   "source": [
    "# Plot scores"
   ]
  },
  {
   "cell_type": "code",
   "execution_count": null,
   "id": "06ac0063",
   "metadata": {},
   "outputs": [],
   "source": [
    "scores_dict = {}\n",
    "for dir_name in glob.glob(\"../internal_split/*\"):\n",
    "    scores_dict[dir_name.split(\"/\")[-1]] = {}\n",
    "    for file_name in glob.glob(dir_name + \"/*\"):\n",
    "        if file_name.endswith(\".scores\") and \"combined\" in file_name:\n",
    "            scores_dict[dir_name.split(\"/\")[-1]][file_name.split(\"/\")[-1]] = read_scores(file_name)"
   ]
  },
  {
   "cell_type": "code",
   "execution_count": null,
   "id": "67b8f2d4",
   "metadata": {},
   "outputs": [],
   "source": [
    "# source formality train and dev\n",
    "import numpy as np\n",
    "\n",
    "def get_accuracy(scores_formal, scores_informal, classify=True, threshold=0.5):\n",
    "    if classify:\n",
    "        print(\"Formal\", sum(np.array(scores_formal) < threshold)/ len(scores_formal))\n",
    "        print(\"InFormal\", sum(np.array(scores_informal) > threshold)/ len(scores_informal))\n",
    "    else:\n",
    "        print(\"Formal\", sum(np.array(scores_formal) > threshold)/ len(scores_formal))\n",
    "        print(\"InFormal\", sum(np.array(scores_informal) < threshold)/ len(scores_informal))\n",
    "\n",
    "def plot_scores(lang):\n",
    "    src, tgt = lang.split(\"-\")\n",
    "    scores_src = scores_dict[lang]['dev.combined.' + src + '.scores']\n",
    "    scores_formal = scores_dict[lang]['dev.combined.formal.' + tgt + '.scores']\n",
    "    scores_informal = scores_dict[lang]['dev.combined.informal.' + tgt + '.scores']  \n",
    "    get_accuracy(scores_formal, scores_informal)\n",
    "    sns.histplot([1-x for x in scores_informal])\n",
    "    plt.show()\n",
    "    sns.histplot(scores_informal)\n",
    "    plt.show()"
   ]
  },
  {
   "cell_type": "code",
   "execution_count": null,
   "id": "18dce75e",
   "metadata": {
    "scrolled": true
   },
   "outputs": [],
   "source": [
    "for lang in [\"en-de\", \"en-ja\", \"en-hi\", \"en-es\"]:\n",
    "    plot_scores('en-de')"
   ]
  },
  {
   "cell_type": "markdown",
   "id": "12c045e5",
   "metadata": {},
   "source": [
    "# Evaluate formality classifiers"
   ]
  },
  {
   "cell_type": "code",
   "execution_count": null,
   "id": "4d1143e9",
   "metadata": {},
   "outputs": [],
   "source": [
    "formal = read_file(\"../../synthetic/es_en_formal.tsv\", n=1500)\n",
    "informal = read_file(\"../../synthetic/es_en_informal.tsv\", n=1500)"
   ]
  },
  {
   "cell_type": "code",
   "execution_count": null,
   "id": "ab69ba4e",
   "metadata": {},
   "outputs": [],
   "source": [
    "model, tokenizer = get_model(\"/fs/clip-controllablemt/IWSLT2022/models/xformal-classifir-es\")"
   ]
  },
  {
   "cell_type": "code",
   "execution_count": null,
   "id": "10ea73aa",
   "metadata": {},
   "outputs": [],
   "source": [
    "formal_labels = []\n",
    "for f in formal:\n",
    "#     print(f)\n",
    "    formal_labels.append(classify(f))"
   ]
  },
  {
   "cell_type": "code",
   "execution_count": null,
   "id": "3352528a",
   "metadata": {},
   "outputs": [],
   "source": [
    "informal_labels = []\n",
    "for f in informal:\n",
    "    informal_labels.append(classify(f))"
   ]
  },
  {
   "cell_type": "code",
   "execution_count": null,
   "id": "00980888",
   "metadata": {},
   "outputs": [],
   "source": [
    "import seaborn as sns\n",
    "import numpy as np\n",
    "sns.histplot((1-np.array(formal_labels))[:, 0])"
   ]
  },
  {
   "cell_type": "code",
   "execution_count": null,
   "id": "d914769f",
   "metadata": {},
   "outputs": [],
   "source": [
    "sns.histplot(np.array(informal_labels)[:, 0])"
   ]
  },
  {
   "cell_type": "markdown",
   "id": "02ee3e46",
   "metadata": {},
   "source": [
    "# Generate scores for Mining"
   ]
  },
  {
   "cell_type": "code",
   "execution_count": null,
   "id": "ce6eedd6",
   "metadata": {},
   "outputs": [],
   "source": [
    "df = pd.read_csv('../../jparacrawl/en-ja/en-ja.bicleaner05.txt', sep=\"\\t\", names=[\"prov\", \"score\", \"src\", \"tgt\"], nrows=50000)"
   ]
  },
  {
   "cell_type": "code",
   "execution_count": null,
   "id": "bc2c7309",
   "metadata": {},
   "outputs": [],
   "source": [
    "model, tokenizer = get_model(\"/fs/clip-controllablemt/IWSLT2022/models/xformal-classifier-ja\")"
   ]
  },
  {
   "cell_type": "code",
   "execution_count": null,
   "id": "2de2848d",
   "metadata": {},
   "outputs": [],
   "source": [
    "df[\"formality_score\"] = df[\"tgt\"].progress_apply(classify)"
   ]
  },
  {
   "cell_type": "code",
   "execution_count": null,
   "id": "f0119ef4",
   "metadata": {},
   "outputs": [],
   "source": [
    "df.head()"
   ]
  },
  {
   "cell_type": "code",
   "execution_count": null,
   "id": "244615eb",
   "metadata": {},
   "outputs": [],
   "source": [
    "df.to_csv('en-ja.bicleaner05_50K_formality.txt')"
   ]
  },
  {
   "cell_type": "code",
   "execution_count": null,
   "id": "609daf96",
   "metadata": {},
   "outputs": [],
   "source": [
    "df = pd.read_csv('en-ja.bicleaner05_50K_formality.txt')"
   ]
  },
  {
   "cell_type": "code",
   "execution_count": null,
   "id": "9c09e770",
   "metadata": {},
   "outputs": [],
   "source": [
    "df.head()"
   ]
  },
  {
   "cell_type": "code",
   "execution_count": null,
   "id": "65830ab0",
   "metadata": {},
   "outputs": [],
   "source": [
    "df[\"p(informal)\"] = df[\"formality_score\"].apply(lambda x: x[0])"
   ]
  },
  {
   "cell_type": "code",
   "execution_count": null,
   "id": "2bbe3081",
   "metadata": {},
   "outputs": [],
   "source": [
    "sns.histplot(df[\"p(informal)\"])"
   ]
  },
  {
   "cell_type": "code",
   "execution_count": null,
   "id": "a83a97a1",
   "metadata": {},
   "outputs": [],
   "source": [
    "model, tokenizer = get_model(\"/fs/clip-controllablemt/IWSLT2022/models/xformal-classifier-hi\")"
   ]
  },
  {
   "cell_type": "code",
   "execution_count": null,
   "id": "3d57e9df",
   "metadata": {},
   "outputs": [],
   "source": [
    "# hi\n",
    "data = read_file(\"../../CCMatrix/en-hi/CCMatrix.en-hi.hi\", n=100000)"
   ]
  },
  {
   "cell_type": "code",
   "execution_count": null,
   "id": "246a64c3",
   "metadata": {},
   "outputs": [],
   "source": [
    "with open(\"../../CCMatrix/en-hi/CCMatrix.en-hi.hi.50k.2.scores\", \"w\") as f:\n",
    "    for line in tqdm(data[50000:]):\n",
    "        f.write(str(classify(model, tokenizer, line)[0]) + \"\\n\")"
   ]
  },
  {
   "cell_type": "code",
   "execution_count": null,
   "id": "0c9701c5",
   "metadata": {},
   "outputs": [],
   "source": [
    "scores_hi = read_scores(\"../../CCMatrix/en-hi/CCMatrix.en-hi.hi.50k.scores\")"
   ]
  },
  {
   "cell_type": "code",
   "execution_count": null,
   "id": "91fa7e36",
   "metadata": {
    "scrolled": true
   },
   "outputs": [],
   "source": [
    "sns.histplot(scores_hi)"
   ]
  },
  {
   "cell_type": "code",
   "execution_count": null,
   "id": "e920c629",
   "metadata": {},
   "outputs": [],
   "source": [
    "import numpy as np\n",
    "len(np.array(scores_hi)[np.array(scores_hi) > 0.7])"
   ]
  },
  {
   "cell_type": "code",
   "execution_count": 8,
   "id": "9c4a162e",
   "metadata": {},
   "outputs": [],
   "source": [
    "df = pd.read_csv('../../mined_bitext/paracrawl/v8/paracrawl-release8.en-ru.bifixed.v0.14.dedup.filter-1.1', sep=\"\\t\", names=[\"src\", \"tgt\", \"bicleaner\", \"laser\"], nrows=100000)"
   ]
  },
  {
   "cell_type": "code",
   "execution_count": 9,
   "id": "e254b499",
   "metadata": {},
   "outputs": [
    {
     "data": {
      "text/html": [
       "<div>\n",
       "<style scoped>\n",
       "    .dataframe tbody tr th:only-of-type {\n",
       "        vertical-align: middle;\n",
       "    }\n",
       "\n",
       "    .dataframe tbody tr th {\n",
       "        vertical-align: top;\n",
       "    }\n",
       "\n",
       "    .dataframe thead th {\n",
       "        text-align: right;\n",
       "    }\n",
       "</style>\n",
       "<table border=\"1\" class=\"dataframe\">\n",
       "  <thead>\n",
       "    <tr style=\"text-align: right;\">\n",
       "      <th></th>\n",
       "      <th>src</th>\n",
       "      <th>tgt</th>\n",
       "      <th>bicleaner</th>\n",
       "      <th>laser</th>\n",
       "    </tr>\n",
       "  </thead>\n",
       "  <tbody>\n",
       "    <tr>\n",
       "      <th>0</th>\n",
       "      <td>Popular categories</td>\n",
       "      <td>Популярные категории</td>\n",
       "      <td>0</td>\n",
       "      <td>1.125711</td>\n",
       "    </tr>\n",
       "    <tr>\n",
       "      <th>1</th>\n",
       "      <td>Other free porn sites</td>\n",
       "      <td>Другие бесплатные порносайты</td>\n",
       "      <td>0.760</td>\n",
       "      <td>1.158605</td>\n",
       "    </tr>\n",
       "    <tr>\n",
       "      <th>2</th>\n",
       "      <td>Monster</td>\n",
       "      <td>Монстр</td>\n",
       "      <td>0</td>\n",
       "      <td>1.107334</td>\n",
       "    </tr>\n",
       "    <tr>\n",
       "      <th>3</th>\n",
       "      <td>Sorry. No matches found.</td>\n",
       "      <td>Извините. Ничего не найдено.</td>\n",
       "      <td>0.680</td>\n",
       "      <td>1.157635</td>\n",
       "    </tr>\n",
       "    <tr>\n",
       "      <th>4</th>\n",
       "      <td>Farm</td>\n",
       "      <td>Ферма</td>\n",
       "      <td>0</td>\n",
       "      <td>1.108173</td>\n",
       "    </tr>\n",
       "  </tbody>\n",
       "</table>\n",
       "</div>"
      ],
      "text/plain": [
       "                        src                           tgt bicleaner     laser\n",
       "0        Popular categories          Популярные категории         0  1.125711\n",
       "1     Other free porn sites  Другие бесплатные порносайты     0.760  1.158605\n",
       "2                   Monster                        Монстр         0  1.107334\n",
       "3  Sorry. No matches found.  Извините. Ничего не найдено.     0.680  1.157635\n",
       "4                      Farm                         Ферма         0  1.108173"
      ]
     },
     "execution_count": 9,
     "metadata": {},
     "output_type": "execute_result"
    }
   ],
   "source": [
    "df.head()"
   ]
  },
  {
   "cell_type": "code",
   "execution_count": 10,
   "id": "5ee062ad",
   "metadata": {},
   "outputs": [],
   "source": [
    "model, tokenizer = get_model(\"/fs/clip-controllablemt/IWSLT2022/models/xformal-classifier-ru\")"
   ]
  },
  {
   "cell_type": "code",
   "execution_count": null,
   "id": "c1efd73f",
   "metadata": {},
   "outputs": [
    {
     "name": "stderr",
     "output_type": "stream",
     "text": [
      " 27%|████████████████████▏                                                     | 27250/100000 [21:27<1:15:58, 15.96it/s]IOPub message rate exceeded.\n",
      "The notebook server will temporarily stop sending output\n",
      "to the client in order to avoid crashing it.\n",
      "To change this limit, set the config variable\n",
      "`--NotebookApp.iopub_msg_rate_limit`.\n",
      "\n",
      "Current values:\n",
      "NotebookApp.iopub_msg_rate_limit=1000.0 (msgs/sec)\n",
      "NotebookApp.rate_limit_window=3.0 (secs)\n",
      "\n",
      " 68%|███████████████████████████████████████████████████▎                        | 67590/100000 [53:53<28:41, 18.82it/s]IOPub message rate exceeded.\n",
      "The notebook server will temporarily stop sending output\n",
      "to the client in order to avoid crashing it.\n",
      "To change this limit, set the config variable\n",
      "`--NotebookApp.iopub_msg_rate_limit`.\n",
      "\n",
      "Current values:\n",
      "NotebookApp.iopub_msg_rate_limit=1000.0 (msgs/sec)\n",
      "NotebookApp.rate_limit_window=3.0 (secs)\n",
      "\n"
     ]
    }
   ],
   "source": [
    "df[\"formality_score\"] = df[\"tgt\"].progress_apply(classify)"
   ]
  },
  {
   "cell_type": "code",
   "execution_count": null,
   "id": "4118083f",
   "metadata": {},
   "outputs": [],
   "source": [
    "df.to_csv('en-ru.100K_formality_russian')"
   ]
  },
  {
   "cell_type": "code",
   "execution_count": 3,
   "id": "71f3ad56",
   "metadata": {},
   "outputs": [],
   "source": [
    "df = pd.read_csv('en-ru.100K_formality_russian')"
   ]
  },
  {
   "cell_type": "code",
   "execution_count": 4,
   "id": "2eedec4d",
   "metadata": {},
   "outputs": [],
   "source": [
    "df[\"P(informal)\"] = df[\"formality_score\"].apply(lambda x: float(x.split(\",\")[0][1:]))"
   ]
  },
  {
   "cell_type": "code",
   "execution_count": 5,
   "id": "4f1cdb24",
   "metadata": {},
   "outputs": [
    {
     "data": {
      "text/html": [
       "<div>\n",
       "<style scoped>\n",
       "    .dataframe tbody tr th:only-of-type {\n",
       "        vertical-align: middle;\n",
       "    }\n",
       "\n",
       "    .dataframe tbody tr th {\n",
       "        vertical-align: top;\n",
       "    }\n",
       "\n",
       "    .dataframe thead th {\n",
       "        text-align: right;\n",
       "    }\n",
       "</style>\n",
       "<table border=\"1\" class=\"dataframe\">\n",
       "  <thead>\n",
       "    <tr style=\"text-align: right;\">\n",
       "      <th></th>\n",
       "      <th>Unnamed: 0</th>\n",
       "      <th>src</th>\n",
       "      <th>tgt</th>\n",
       "      <th>bicleaner</th>\n",
       "      <th>laser</th>\n",
       "      <th>formality_score</th>\n",
       "      <th>P(informal)</th>\n",
       "    </tr>\n",
       "  </thead>\n",
       "  <tbody>\n",
       "    <tr>\n",
       "      <th>0</th>\n",
       "      <td>0</td>\n",
       "      <td>Popular categories</td>\n",
       "      <td>Популярные категории</td>\n",
       "      <td>0</td>\n",
       "      <td>1.125711</td>\n",
       "      <td>[0.9812387228012085, 0.018761318176984787]</td>\n",
       "      <td>0.981239</td>\n",
       "    </tr>\n",
       "    <tr>\n",
       "      <th>1</th>\n",
       "      <td>1</td>\n",
       "      <td>Other free porn sites</td>\n",
       "      <td>Другие бесплатные порносайты</td>\n",
       "      <td>0.760</td>\n",
       "      <td>1.158605</td>\n",
       "      <td>[0.9955869913101196, 0.004413031041622162]</td>\n",
       "      <td>0.995587</td>\n",
       "    </tr>\n",
       "    <tr>\n",
       "      <th>2</th>\n",
       "      <td>2</td>\n",
       "      <td>Monster</td>\n",
       "      <td>Монстр</td>\n",
       "      <td>0</td>\n",
       "      <td>1.107334</td>\n",
       "      <td>[0.9595021605491638, 0.04049782082438469]</td>\n",
       "      <td>0.959502</td>\n",
       "    </tr>\n",
       "    <tr>\n",
       "      <th>3</th>\n",
       "      <td>3</td>\n",
       "      <td>Sorry. No matches found.</td>\n",
       "      <td>Извините. Ничего не найдено.</td>\n",
       "      <td>0.680</td>\n",
       "      <td>1.157635</td>\n",
       "      <td>[0.9930434226989746, 0.0069565544836223125]</td>\n",
       "      <td>0.993043</td>\n",
       "    </tr>\n",
       "    <tr>\n",
       "      <th>4</th>\n",
       "      <td>4</td>\n",
       "      <td>Farm</td>\n",
       "      <td>Ферма</td>\n",
       "      <td>0</td>\n",
       "      <td>1.108173</td>\n",
       "      <td>[0.8574844002723694, 0.14251555502414703]</td>\n",
       "      <td>0.857484</td>\n",
       "    </tr>\n",
       "  </tbody>\n",
       "</table>\n",
       "</div>"
      ],
      "text/plain": [
       "   Unnamed: 0                       src                           tgt  \\\n",
       "0           0        Popular categories          Популярные категории   \n",
       "1           1     Other free porn sites  Другие бесплатные порносайты   \n",
       "2           2                   Monster                        Монстр   \n",
       "3           3  Sorry. No matches found.  Извините. Ничего не найдено.   \n",
       "4           4                      Farm                         Ферма   \n",
       "\n",
       "  bicleaner     laser                              formality_score  \\\n",
       "0         0  1.125711   [0.9812387228012085, 0.018761318176984787]   \n",
       "1     0.760  1.158605   [0.9955869913101196, 0.004413031041622162]   \n",
       "2         0  1.107334    [0.9595021605491638, 0.04049782082438469]   \n",
       "3     0.680  1.157635  [0.9930434226989746, 0.0069565544836223125]   \n",
       "4         0  1.108173    [0.8574844002723694, 0.14251555502414703]   \n",
       "\n",
       "   P(informal)  \n",
       "0     0.981239  \n",
       "1     0.995587  \n",
       "2     0.959502  \n",
       "3     0.993043  \n",
       "4     0.857484  "
      ]
     },
     "execution_count": 5,
     "metadata": {},
     "output_type": "execute_result"
    }
   ],
   "source": [
    "df.head()"
   ]
  },
  {
   "cell_type": "code",
   "execution_count": 7,
   "id": "9652e0ec",
   "metadata": {},
   "outputs": [
    {
     "data": {
      "text/plain": [
       "<AxesSubplot:xlabel='P(informal)', ylabel='Count'>"
      ]
     },
     "execution_count": 7,
     "metadata": {},
     "output_type": "execute_result"
    },
    {
     "data": {
      "image/png": "[encoded data removed]",
      "text/plain": [
       "<Figure size 432x288 with 1 Axes>"
      ]
     },
     "metadata": {
      "needs_background": "light"
     },
     "output_type": "display_data"
    }
   ],
   "source": [
    "sns.histplot(df[\"P(informal)\"])"
   ]
  },
  {
   "cell_type": "code",
   "execution_count": null,
   "id": "a68dd6a8",
   "metadata": {},
   "outputs": [],
   "source": [
    "import pandas as pd\n",
    "\n",
    "df = pd.read_csv(\"en-ru.100K_formality\", index_col=0)"
   ]
  },
  {
   "cell_type": "code",
   "execution_count": null,
   "id": "a9bfddcd",
   "metadata": {},
   "outputs": [],
   "source": [
    "df[\"bicleaner\"]"
   ]
  },
  {
   "cell_type": "code",
   "execution_count": null,
   "id": "5886eb9e",
   "metadata": {},
   "outputs": [],
   "source": [
    "df[\"laser\"].plot()"
   ]
  },
  {
   "cell_type": "code",
   "execution_count": null,
   "id": "a1d277c8",
   "metadata": {},
   "outputs": [],
   "source": [
    "df[\"P(informal)\"] = df[\"formality_score\"].apply(lambda x: float(x.split(\",\")[0][1:]))"
   ]
  },
  {
   "cell_type": "code",
   "execution_count": null,
   "id": "9bc03925",
   "metadata": {},
   "outputs": [],
   "source": [
    "df.head()"
   ]
  },
  {
   "cell_type": "code",
   "execution_count": null,
   "id": "9af93440",
   "metadata": {},
   "outputs": [],
   "source": [
    "formal_df = df.sort_values(\"P(informal)\").head(100000)"
   ]
  },
  {
   "cell_type": "code",
   "execution_count": null,
   "id": "a8c3f893",
   "metadata": {},
   "outputs": [],
   "source": [
    "informal_df = df.sort_values(\"P(informal)\", ascending=False).head(50000)"
   ]
  },
  {
   "cell_type": "code",
   "execution_count": null,
   "id": "095fbab9",
   "metadata": {},
   "outputs": [],
   "source": [
    "formal_df[\"rule\"] = formal_df[\"tgt\"].apply(lambda x: \"Вы\" in x)"
   ]
  },
  {
   "cell_type": "code",
   "execution_count": null,
   "id": "1269d751",
   "metadata": {},
   "outputs": [],
   "source": [
    "formal_subset_df= formal_df[(formal_df[\"rule\"]==True) & (formal_df[\"laser\"].astype(float) > 1.2)]"
   ]
  },
  {
   "cell_type": "code",
   "execution_count": null,
   "id": "2099dc82",
   "metadata": {},
   "outputs": [],
   "source": [
    "informal_df[\"rule\"] = informal_df[\"tgt\"].apply(lambda x: \"ты\" in x)"
   ]
  },
  {
   "cell_type": "code",
   "execution_count": null,
   "id": "96e605b5",
   "metadata": {},
   "outputs": [],
   "source": [
    "informal_subset_df = informal_df[(informal_df[\"rule\"]==True) & (informal_df[\"laser\"].astype(float) > 1.2)]"
   ]
  },
  {
   "cell_type": "code",
   "execution_count": null,
   "id": "d65dc2b4",
   "metadata": {},
   "outputs": [],
   "source": [
    "\n",
    "def concatenate_lists_into_df(lists, labels):\n",
    "    lists_with_names = [[labels[i]] + [y] for i in range(len(lists)) for y in lists[i]]\n",
    "    df = pd.DataFrame(lists_with_names).reset_index() \n",
    "    df.columns=[\"SID\", \"label\", \"sentence\"]\n",
    "    return df"
   ]
  },
  {
   "cell_type": "code",
   "execution_count": null,
   "id": "27c10b94",
   "metadata": {},
   "outputs": [],
   "source": [
    "import pandas as pd\n",
    "all_scores = concatenate_lists_into_df([formal_subset_df[\"tgt\"], informal_subset_df[\"tgt\"]], ['1', '0'])"
   ]
  },
  {
   "cell_type": "code",
   "execution_count": null,
   "id": "945ca3cb",
   "metadata": {},
   "outputs": [],
   "source": [
    "all_scores"
   ]
  },
  {
   "cell_type": "code",
   "execution_count": null,
   "id": "25a0460e",
   "metadata": {},
   "outputs": [],
   "source": [
    "from sklearn.utils import shuffle\n",
    "all_scores = shuffle(all_scores)"
   ]
  },
  {
   "cell_type": "code",
   "execution_count": null,
   "id": "0c549d71",
   "metadata": {},
   "outputs": [],
   "source": [
    "from sklearn.model_selection import train_test_split\n",
    "\n",
    "train, test = train_test_split(all_scores, test_size=0.2)"
   ]
  },
  {
   "cell_type": "code",
   "execution_count": null,
   "id": "71133415",
   "metadata": {},
   "outputs": [],
   "source": [
    "all_df.to_csv(\"en-ru.rule\")"
   ]
  },
  {
   "cell_type": "code",
   "execution_count": null,
   "id": "5212db0b",
   "metadata": {},
   "outputs": [],
   "source": [
    "train.to_csv(\"../formality_classifiers_data/ru/\" + \"/train.csv\", index=False)"
   ]
  },
  {
   "cell_type": "code",
   "execution_count": null,
   "id": "2a77aae8",
   "metadata": {},
   "outputs": [],
   "source": [
    "test.to_csv(\"../formality_classifiers_data/ru/\" + \"/dev.csv\", index=False)"
   ]
  },
  {
   "cell_type": "code",
   "execution_count": 3,
   "id": "ce5317a1",
   "metadata": {},
   "outputs": [],
   "source": [
    "en = read_file(\"../../mined_bitext/paracrawl/v8/en-it/ParaCrawl.100k.en-it.en\")\n",
    "it = read_file(\"../../mined_bitext/paracrawl/v8/en-it/ParaCrawl.100k.en-it.it\")\n",
    "multi_scores = read_file(\"../paracrawl.en-it.multi.100k.scores\")\n",
    "xformal_scores = read_file(\"../paracrawl.en-it.xformal.100k.scores\")"
   ]
  },
  {
   "cell_type": "code",
   "execution_count": 61,
   "id": "6ae0f6de",
   "metadata": {},
   "outputs": [],
   "source": [
    "df = pd.DataFrame([en, it, multi_scores, xformal_scores]).transpose()"
   ]
  },
  {
   "cell_type": "code",
   "execution_count": 62,
   "id": "efed5048",
   "metadata": {},
   "outputs": [],
   "source": [
    "df.columns = [\"src\", \"tgt\", \"multi\", \"xformal\"]"
   ]
  },
  {
   "cell_type": "code",
   "execution_count": 63,
   "id": "596eee8a",
   "metadata": {},
   "outputs": [
    {
     "data": {
      "text/html": [
       "<div>\n",
       "<style scoped>\n",
       "    .dataframe tbody tr th:only-of-type {\n",
       "        vertical-align: middle;\n",
       "    }\n",
       "\n",
       "    .dataframe tbody tr th {\n",
       "        vertical-align: top;\n",
       "    }\n",
       "\n",
       "    .dataframe thead th {\n",
       "        text-align: right;\n",
       "    }\n",
       "</style>\n",
       "<table border=\"1\" class=\"dataframe\">\n",
       "  <thead>\n",
       "    <tr style=\"text-align: right;\">\n",
       "      <th></th>\n",
       "      <th>src</th>\n",
       "      <th>tgt</th>\n",
       "      <th>multi</th>\n",
       "      <th>xformal</th>\n",
       "    </tr>\n",
       "  </thead>\n",
       "  <tbody>\n",
       "    <tr>\n",
       "      <th>0</th>\n",
       "      <td>We provide not only dictionary!Xóõ-Ninam, but ...</td>\n",
       "      <td>Forniamo non solo dizionario!O!ung - Ninam, ma...</td>\n",
       "      <td>0.5246639847755432</td>\n",
       "      <td>0.8750554323196411</td>\n",
       "    </tr>\n",
       "    <tr>\n",
       "      <th>1</th>\n",
       "      <td>The Agency works to provide technical support ...</td>\n",
       "      <td>L’Agenzia opera per fornire supporto tecnico a...</td>\n",
       "      <td>0.44010061025619507</td>\n",
       "      <td>0.0013071110006421804</td>\n",
       "    </tr>\n",
       "    <tr>\n",
       "      <th>2</th>\n",
       "      <td>Then the researchers of the National Research ...</td>\n",
       "      <td>Poi, i ricercatori dell’Istituto Nazionale del...</td>\n",
       "      <td>0.5046135783195496</td>\n",
       "      <td>0.0012979418970644474</td>\n",
       "    </tr>\n",
       "    <tr>\n",
       "      <th>3</th>\n",
       "      <td>Both men and women need to do resistance and p...</td>\n",
       "      <td>Sia gli uomini e le donne hanno bisogno di far...</td>\n",
       "      <td>0.49218568205833435</td>\n",
       "      <td>0.06983716040849686</td>\n",
       "    </tr>\n",
       "    <tr>\n",
       "      <th>4</th>\n",
       "      <td>The opening began</td>\n",
       "      <td>L'apertura è iniziata</td>\n",
       "      <td>0.47368913888931274</td>\n",
       "      <td>0.019087575376033783</td>\n",
       "    </tr>\n",
       "  </tbody>\n",
       "</table>\n",
       "</div>"
      ],
      "text/plain": [
       "                                                 src  \\\n",
       "0  We provide not only dictionary!Xóõ-Ninam, but ...   \n",
       "1  The Agency works to provide technical support ...   \n",
       "2  Then the researchers of the National Research ...   \n",
       "3  Both men and women need to do resistance and p...   \n",
       "4                                  The opening began   \n",
       "\n",
       "                                                 tgt                multi  \\\n",
       "0  Forniamo non solo dizionario!O!ung - Ninam, ma...   0.5246639847755432   \n",
       "1  L’Agenzia opera per fornire supporto tecnico a...  0.44010061025619507   \n",
       "2  Poi, i ricercatori dell’Istituto Nazionale del...   0.5046135783195496   \n",
       "3  Sia gli uomini e le donne hanno bisogno di far...  0.49218568205833435   \n",
       "4                              L'apertura è iniziata  0.47368913888931274   \n",
       "\n",
       "                 xformal  \n",
       "0     0.8750554323196411  \n",
       "1  0.0013071110006421804  \n",
       "2  0.0012979418970644474  \n",
       "3    0.06983716040849686  \n",
       "4   0.019087575376033783  "
      ]
     },
     "execution_count": 63,
     "metadata": {},
     "output_type": "execute_result"
    }
   ],
   "source": [
    "df.head()"
   ]
  },
  {
   "cell_type": "code",
   "execution_count": 64,
   "id": "a71806e2",
   "metadata": {},
   "outputs": [],
   "source": [
    "def rule_based(text):\n",
    "    if text:\n",
    "        if \"tu\" in text.lower().split(\" \"):\n",
    "            return \"0\"\n",
    "        elif \"voi\" in text.lower().split(\" \") or \"lei\" in text.lower().split(\" \"):\n",
    "            return \"1\"\n",
    "        else:\n",
    "            return \"none\"\n",
    "    else:\n",
    "        return \"none\""
   ]
  },
  {
   "cell_type": "code",
   "execution_count": 65,
   "id": "03e16862",
   "metadata": {},
   "outputs": [],
   "source": [
    "df[\"rule_based\"] = df[\"tgt\"].apply(rule_based)"
   ]
  },
  {
   "cell_type": "code",
   "execution_count": 66,
   "id": "d3f7dcca",
   "metadata": {},
   "outputs": [
    {
     "name": "stdout",
     "output_type": "stream",
     "text": [
      "none    99155\n",
      "1         548\n",
      "0         298\n",
      "Name: rule_based, dtype: int64\n"
     ]
    }
   ],
   "source": [
    "print(df[\"rule_based\"].value_counts())"
   ]
  },
  {
   "cell_type": "code",
   "execution_count": 67,
   "id": "6d9f1acc",
   "metadata": {},
   "outputs": [],
   "source": [
    "sample_df = df[df[\"rule_based\"] != \"none\"]    "
   ]
  },
  {
   "cell_type": "code",
   "execution_count": 68,
   "id": "b0a356ca",
   "metadata": {},
   "outputs": [],
   "source": [
    "sample_df =sample_df[[\"tgt\",\"rule_based\"]]\n",
    "df = pd.DataFrame(sample_df).reset_index() \n",
    "df.columns=[\"SID\", \"sentence\", \"label\"]"
   ]
  },
  {
   "cell_type": "code",
   "execution_count": 69,
   "id": "2644af44",
   "metadata": {},
   "outputs": [],
   "source": [
    "from sklearn.model_selection import train_test_split\n",
    "\n",
    "train, test = train_test_split(df, test_size=0.2)"
   ]
  },
  {
   "cell_type": "code",
   "execution_count": 70,
   "id": "795428cd",
   "metadata": {},
   "outputs": [],
   "source": [
    "train.to_csv(\"../formality_classifiers_data/it/\" + \"/train.csv\", index=False)\n",
    "test.to_csv(\"../formality_classifiers_data/it/\" + \"/dev.csv\", index=False)"
   ]
  },
  {
   "cell_type": "code",
   "execution_count": null,
   "id": "0b76a91b",
   "metadata": {},
   "outputs": [],
   "source": []
  },
  {
   "cell_type": "code",
   "execution_count": null,
   "id": "45411361",
   "metadata": {},
   "outputs": [],
   "source": []
  },
  {
   "cell_type": "markdown",
   "id": "55a71e23",
   "metadata": {},
   "source": [
    "# Paired Vs Unpaired"
   ]
  },
  {
   "cell_type": "code",
   "execution_count": null,
   "id": "2c77a348",
   "metadata": {},
   "outputs": [],
   "source": [
    "model, tokenizer = get_model(\"/fs/clip-controllablemt/IWSLT2022/models/xformal-classifier-ja\")"
   ]
  },
  {
   "cell_type": "code",
   "execution_count": null,
   "id": "88bd9138",
   "metadata": {},
   "outputs": [],
   "source": [
    "unpaired_scores_dict = {}\n",
    "for fname in glob.glob(\"../../model_outputs/finetuned_paired_res/*.scores\"):\n",
    "    unpaired_scores_dict[fname.split(\"/\")[-1]] = read_scores(fname)"
   ]
  },
  {
   "cell_type": "code",
   "execution_count": null,
   "id": "3f2a19a9",
   "metadata": {},
   "outputs": [],
   "source": [
    "paired_scores_dict = {}\n",
    "for fname in glob.glob(\"../../model_outputs/finetuned_unpaired_res/*.scores\"):\n",
    "    paired_scores_dict[fname.split(\"/\")[-1]] = read_scores(fname)"
   ]
  },
  {
   "cell_type": "code",
   "execution_count": null,
   "id": "a84945a6",
   "metadata": {},
   "outputs": [],
   "source": [
    "for key in unpaired_scores_dict:\n",
    "    if \"combined\" in key:\n",
    "        if key in unpaired_scores_dict and key in paired_scores_dict:\n",
    "            print(key)\n",
    "            sns.histplot(unpaired_scores_dict[key])\n",
    "            print(\"Unpaired (mean)\", np.mean(unpaired_scores_dict[key]))\n",
    "            print(\"Unpaired (std)\", np.std(unpaired_scores_dict[key]))\n",
    "            plt.show()\n",
    "            sns.histplot(paired_scores_dict[key])\n",
    "            print(\"Paired (mean)\", np.mean(paired_scores_dict[key]))\n",
    "            print(\"Paired (std)\", np.std(paired_scores_dict[key]))\n",
    "            plt.show()"
   ]
  },
  {
   "cell_type": "code",
   "execution_count": null,
   "id": "accadbcc",
   "metadata": {},
   "outputs": [],
   "source": [
    "finetuned_scores_dict = {}\n",
    "for fname in glob.glob(\"../../model_outputs/finetuned-res/*.scores\"):\n",
    "    finetuned_scores_dict[fname.split(\"/\")[-1]] = read_scores(fname)"
   ]
  },
  {
   "cell_type": "code",
   "execution_count": null,
   "id": "9656f7e7",
   "metadata": {},
   "outputs": [],
   "source": [
    "pretrained_scores_dict = {}\n",
    "for fname in glob.glob(\"../../model_outputs/pretrained-res/*.scores\"):\n",
    "    pretrained_scores_dict[fname.split(\"/\")[-1]] = read_scores(fname)"
   ]
  },
  {
   "cell_type": "code",
   "execution_count": null,
   "id": "1581d60d",
   "metadata": {},
   "outputs": [],
   "source": [
    "for key in finetuned_scores_dict:\n",
    "    if \"combined\" in key:\n",
    "        if key in finetuned_scores_dict and key in pretrained_scores_dict:\n",
    "            print(key)\n",
    "            sns.histplot(finetuned_scores_dict[key])\n",
    "            print(\"Finetuned (mean)\", np.mean(finetuned_scores_dict[key]))\n",
    "            print(\"Finetuned (std)\", np.std(finetuned_scores_dict[key]))\n",
    "            plt.show()\n",
    "            sns.histplot(paired_scores_dict[key])\n",
    "            print(\"Pre-trained (mean)\", np.mean(pretrained_scores_dict[key]))\n",
    "            print(\"Pre-trained (std)\", np.std(pretrained_scores_dict[key]))\n",
    "            plt.show()"
   ]
  }
 ],
 "metadata": {
  "kernelspec": {
   "display_name": "Python 3 (ipykernel)",
   "language": "python",
   "name": "python3"
  },
  "language_info": {
   "codemirror_mode": {
    "name": "ipython",
    "version": 3
   },
   "file_extension": ".py",
   "mimetype": "text/x-python",
   "name": "python",
   "nbconvert_exporter": "python",
   "pygments_lexer": "ipython3",
   "version": "3.9.6"
  }
 },
 "nbformat": 4,
 "nbformat_minor": 5
}
