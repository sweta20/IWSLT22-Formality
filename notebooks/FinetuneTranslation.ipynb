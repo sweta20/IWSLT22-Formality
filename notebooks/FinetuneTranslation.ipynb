{
 "cells": [
  {
   "cell_type": "code",
   "execution_count": null,
   "id": "45e89997",
   "metadata": {},
   "outputs": [],
   "source": [
    "import torch\n",
    "import numpy as np\n",
    "import random\n",
    "seed=1234\n",
    "random.seed(seed)\n",
    "np.random.seed(seed)\n",
    "torch.manual_seed(seed)\n",
    "\n",
    "# https://github.com/huggingface/notebooks/blob/master/examples/translation.ipynb"
   ]
  },
  {
   "cell_type": "code",
   "execution_count": null,
   "id": "3255a2e9",
   "metadata": {},
   "outputs": [],
   "source": [
    "import sys"
   ]
  },
  {
   "cell_type": "code",
   "execution_count": null,
   "id": "12988350",
   "metadata": {},
   "outputs": [],
   "source": [
    "from transformers import AutoTokenizer\n",
    "import sacrebleu\n",
    "import sys\n",
    "import os\n",
    "from transformers import AutoModelForSeq2SeqLM, DataCollatorForSeq2Seq, Seq2SeqTrainingArguments, MBartForConditionalGeneration, MBart50TokenizerFast"
   ]
  },
  {
   "cell_type": "code",
   "execution_count": null,
   "id": "54e3ad79",
   "metadata": {},
   "outputs": [],
   "source": [
    "from mbart_covariate import MBartSeq2SeqTrainer"
   ]
  },
  {
   "cell_type": "code",
   "execution_count": null,
   "id": "08794c87",
   "metadata": {},
   "outputs": [],
   "source": [
    "tgt_lang_to_code = {\n",
    "    \"hi\" : \"hi_IN\",\n",
    "    \"de\" : \"de_DE\",\n",
    "    \"es\" : \"es_XX\",\n",
    "    \"it\" : \"it_IT\",\n",
    "    \"ru\" : \"ru_RU\",\n",
    "    \"ja\" : \"ja_XX\"\n",
    "}"
   ]
  },
  {
   "cell_type": "code",
   "execution_count": null,
   "id": "e62c42bc",
   "metadata": {},
   "outputs": [],
   "source": [
    "from datasets import load_dataset, load_metric\n",
    "MAX_LENGTH=96\n",
    "metric = load_metric(\"sacrebleu\")"
   ]
  },
  {
   "cell_type": "code",
   "execution_count": null,
   "id": "587d45c4",
   "metadata": {},
   "outputs": [],
   "source": [
    "def read_file(fname):\n",
    "    data = []\n",
    "    with open(fname) as f:\n",
    "        for line in f:\n",
    "            data.append(line.strip())\n",
    "    return data\n",
    "\n",
    "def get_data(data_dir, tgt_lang, domain, split):\n",
    "    source = read_file(f\"{data_dir}/en-{tgt_lang}/{split}.{domain}.en\")\n",
    "    formal_translations = read_file(f\"{data_dir}/en-{tgt_lang}/{split}.{domain}.formal.{tgt_lang}\")\n",
    "    informal_translations = read_file(f\"{data_dir}/en-{tgt_lang}/{split}.{domain}.informal.{tgt_lang}\")\n",
    "    return source, formal_translations, informal_translations"
   ]
  },
  {
   "cell_type": "code",
   "execution_count": null,
   "id": "e25290fb",
   "metadata": {},
   "outputs": [],
   "source": [
    "import torch\n",
    "from torch.utils.data import Dataset\n",
    "\n",
    "class FormalityData(Dataset):\n",
    "    \n",
    "    def __init__(self, data_dir, domain, split, src_lang, tgt_lang, direction):\n",
    "        self.source, self.formal_translations, self.informal_translations=get_data(data_dir, tgt_lang, domain, split)\n",
    "        tokenizer.src_lang = \"en-XX\"\n",
    "        tokenizer.tgt_lang  = tgt_lang_to_code[tgt_lang]\n",
    "        self.direction = direction\n",
    "        self.max_target_length=MAX_LENGTH\n",
    "        self.max_input_length=MAX_LENGTH\n",
    "        self.model_inputs = self.encode_split()\n",
    "        self.tgt_lang = tgt_lang\n",
    "        \n",
    "        \n",
    "    def __len__(self):\n",
    "        return len(self.model_inputs[\"input_ids\"])\n",
    "    \n",
    "    def encode_split(self):\n",
    "        model_inputs = tokenizer(self.source, max_length=self.max_input_length, truncation=True)\n",
    "        with tokenizer.as_target_tokenizer():\n",
    "            if self.direction == \"formal\":\n",
    "                labels = tokenizer(self.formal_translations, max_length=self.max_target_length, truncation=True)\n",
    "            else:\n",
    "                labels = tokenizer(self.informal_translations, max_length=self.max_target_length, truncation=True)\n",
    "        model_inputs[\"labels\"] = labels[\"input_ids\"]\n",
    "        return model_inputs\n",
    "\n",
    "    def __getitem__(self, idx):\n",
    "        item = {k: v[idx] for k, v in self.model_inputs.items()}\n",
    "        item[\"labels\"] = self.model_inputs[\"labels\"][idx]\n",
    "        item[\"forced_bos_token_id\"] = tokenizer.lang_code_to_id[tgt_lang_to_code[self.tgt_lang]]\n",
    "        return item"
   ]
  },
  {
   "cell_type": "code",
   "execution_count": null,
   "id": "449dfb32",
   "metadata": {},
   "outputs": [],
   "source": [
    "def get_training_data(data_dir, direction):\n",
    "    train_datasets = []\n",
    "    for domain in [\"telephony\", \"topical-chat\"]:\n",
    "        for tgt_lang in [\"hi\", \"ja\", \"de\", \"es\"]:\n",
    "            train_datasets.append(FormalityData(data_dir, domain, \"train\", \"en\", tgt_lang, direction))\n",
    "    train_dataset = torch.utils.data.ConcatDataset(train_datasets)\n",
    "\n",
    "    dev_datasets = []\n",
    "    for domain in [\"telephony\", \"topical-chat\"]:\n",
    "        for tgt_lang in [\"hi\", \"ja\", \"de\", \"es\"]:\n",
    "            dev_datasets.append(FormalityData(data_dir, domain, \"dev\", \"en\", tgt_lang, direction))\n",
    "    dev_dataset = torch.utils.data.ConcatDataset(dev_datasets)\n",
    "    \n",
    "    return train_dataset, dev_dataset"
   ]
  },
  {
   "cell_type": "code",
   "execution_count": null,
   "id": "09843b21",
   "metadata": {},
   "outputs": [],
   "source": [
    "import numpy as np\n",
    "\n",
    "def postprocess_text(preds, labels):\n",
    "    preds = [pred.strip() for pred in preds]\n",
    "    labels = [[label.strip()] for label in labels]\n",
    "\n",
    "    return preds, labels\n",
    "\n",
    "def compute_metrics(eval_preds):\n",
    "    preds, labels = eval_preds\n",
    "    if isinstance(preds, tuple):\n",
    "        preds = preds[0]\n",
    "    decoded_preds = tokenizer.batch_decode(preds, skip_special_tokens=True)\n",
    "\n",
    "    # Replace -100 in the labels as we can't decode them.\n",
    "    labels = np.where(labels != -100, labels, tokenizer.pad_token_id)\n",
    "    decoded_labels = tokenizer.batch_decode(labels, skip_special_tokens=True)\n",
    "\n",
    "    # Some simple post-processing\n",
    "    decoded_preds, decoded_labels = postprocess_text(decoded_preds, decoded_labels)\n",
    "\n",
    "    result = metric.compute(predictions=decoded_preds, references=decoded_labels)\n",
    "    result = {\"bleu\": result[\"score\"]}\n",
    "\n",
    "    prediction_lens = [np.count_nonzero(pred != tokenizer.pad_token_id) for pred in preds]\n",
    "    result[\"gen_len\"] = np.mean(prediction_lens)\n",
    "    result = {k: round(v, 4) for k, v in result.items()}\n",
    "    return result"
   ]
  },
  {
   "cell_type": "code",
   "execution_count": null,
   "id": "fe8d9f1f",
   "metadata": {},
   "outputs": [],
   "source": [
    "def get_trainer(data_dir, direction, exp_name):\n",
    "    \n",
    "    args = Seq2SeqTrainingArguments(\n",
    "        output_dir=f\"../models/{model_name}-finetuned-en-to-xx-{direction}-{exp_name}\",\n",
    "        evaluation_strategy = \"epoch\",\n",
    "        learning_rate=3e-5,\n",
    "        per_device_train_batch_size=train_batch_size,\n",
    "        per_device_eval_batch_size=eval_batch_size,\n",
    "        weight_decay=0.01,\n",
    "        save_total_limit=3,\n",
    "        num_train_epochs=10,\n",
    "        save_steps=100,\n",
    "        eval_steps=100,\n",
    "        predict_with_generate=True,\n",
    "        fp16=True,\n",
    "        push_to_hub=False,\n",
    "    )\n",
    "    \n",
    "    model = AutoModelForSeq2SeqLM.from_pretrained(model_name, cache_dir=\"/fs/clip-scratch/sweagraw/CACHE\")\n",
    "#     print(model)\n",
    "    model.requires_grad_(True)\n",
    "#     model.shared.embedding.requires_grad_(False)\n",
    "#     model.get_decoder().layers[-2:].requires_grad_(True)\n",
    "#     model.lm_head.requires_grad_(True)\n",
    "    data_collator = DataCollatorForSeq2Seq(tokenizer, model=model)\n",
    "    \n",
    "    train_dataset, dev_dataset = get_training_data(data_dir, direction)\n",
    "    \n",
    "    trainer = MBartSeq2SeqTrainer(\n",
    "        model,\n",
    "        args,\n",
    "        train_dataset=train_dataset,\n",
    "        eval_dataset=dev_dataset,\n",
    "        data_collator=data_collator,\n",
    "        tokenizer=tokenizer,\n",
    "        compute_metrics=compute_metrics\n",
    "    )\n",
    "    \n",
    "    return trainer, model"
   ]
  },
  {
   "cell_type": "code",
   "execution_count": null,
   "id": "21e66d96",
   "metadata": {},
   "outputs": [],
   "source": [
    "train_batch_size = 8\n",
    "eval_batch_size=4\n",
    "exp_name=\"test\"\n",
    "data_dir = \"../internal_split\"\n",
    "src_lang=\"en\"\n",
    "direction=\"formal\"\n",
    "model_name=\"facebook/mbart-large-50-one-to-many-mmt\"\n",
    "tokenizer = AutoTokenizer.from_pretrained(model_name, cache_dir=\"/fs/clip-scratch/sweagraw/CACHE\")"
   ]
  },
  {
   "cell_type": "code",
   "execution_count": null,
   "id": "77c07559",
   "metadata": {},
   "outputs": [],
   "source": [
    "trainer, model = get_trainer(data_dir, direction, exp_name)"
   ]
  },
  {
   "cell_type": "code",
   "execution_count": null,
   "id": "b15acd72",
   "metadata": {},
   "outputs": [],
   "source": [
    "model.embedding"
   ]
  },
  {
   "cell_type": "code",
   "execution_count": null,
   "id": "b7e99ea3",
   "metadata": {},
   "outputs": [],
   "source": [
    "trainer = get_trainer(data_dir, direction, exp_name)\n",
    "torch.cuda.empty_cache()\n",
    "trainer.train()"
   ]
  },
  {
   "cell_type": "code",
   "execution_count": null,
   "id": "ecaaf935",
   "metadata": {},
   "outputs": [],
   "source": [
    "# https://github.com/huggingface/transformers/blob/master/examples/legacy/seq2seq/finetune_trainer.py\n",
    "# https://github.com/huggingface/transformers/blob/master/examples/pytorch/translation/run_translation.py"
   ]
  },
  {
   "cell_type": "code",
   "execution_count": null,
   "id": "13d4ab8f",
   "metadata": {},
   "outputs": [],
   "source": []
  }
 ],
 "metadata": {
  "kernelspec": {
   "display_name": "Python 3 (ipykernel)",
   "language": "python",
   "name": "python3"
  },
  "language_info": {
   "codemirror_mode": {
    "name": "ipython",
    "version": 3
   },
   "file_extension": ".py",
   "mimetype": "text/x-python",
   "name": "python",
   "nbconvert_exporter": "python",
   "pygments_lexer": "ipython3",
   "version": "3.7.11"
  }
 },
 "nbformat": 4,
 "nbformat_minor": 5
}
