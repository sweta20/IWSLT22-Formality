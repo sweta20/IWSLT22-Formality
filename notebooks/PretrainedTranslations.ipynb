{
 "cells": [
  {
   "cell_type": "code",
   "execution_count": null,
   "id": "157d76e6",
   "metadata": {},
   "outputs": [],
   "source": [
    "from transformers import MBartForConditionalGeneration, MBart50TokenizerFast\n",
    "import sacrebleu\n",
    "import sys\n",
    "import os\n",
    "sys.path.append(\"/fs/clip-scratch/sweagraw/contrastive-controlled-mt/IWSLT2022\")"
   ]
  },
  {
   "cell_type": "code",
   "execution_count": null,
   "id": "7b552db8",
   "metadata": {},
   "outputs": [],
   "source": [
    "def read_file(fname):\n",
    "    data = []\n",
    "    with open(fname) as f:\n",
    "        for line in f:\n",
    "            data.append(line.strip())\n",
    "    return data"
   ]
  },
  {
   "cell_type": "code",
   "execution_count": null,
   "id": "f0f6c8bb",
   "metadata": {},
   "outputs": [],
   "source": [
    "def get_data(tgt_lang, domain, split):\n",
    "    source = read_file(f\"../internal_split/en-{tgt_lang}/{split}.{domain}.en\")\n",
    "    formal_translations = read_file(f\"../internal_split/en-{tgt_lang}/{split}.{domain}.formal.{tgt_lang}\")\n",
    "    informal_translations = read_file(f\"../internal_split/en-{tgt_lang}/{split}.{domain}.informal.{tgt_lang}\")\n",
    "    return source, formal_translations, informal_translations"
   ]
  },
  {
   "cell_type": "code",
   "execution_count": null,
   "id": "d70fa4a3",
   "metadata": {},
   "outputs": [],
   "source": [
    "tgt_lang_to_code = {\n",
    "    \"hi\" : \"hi_IN\",\n",
    "    \"de\" : \"de_DE\",\n",
    "    \"es\" : \"es_XX\",\n",
    "    \"it\" : \"it_IT\",\n",
    "    \"ru\" : \"ru_RU\",\n",
    "    \"ja\" : \"ja_XX\"\n",
    "}"
   ]
  },
  {
   "cell_type": "code",
   "execution_count": null,
   "id": "e254f74b",
   "metadata": {},
   "outputs": [],
   "source": [
    "model = MBartForConditionalGeneration.from_pretrained(\"facebook/mbart-large-50-one-to-many-mmt\", cache_dir=\"/fs/clip-scratch/sweagraw/CACHE\")\n",
    "tokenizer = MBart50TokenizerFast.from_pretrained(\"facebook/mbart-large-50-one-to-many-mmt\", src_lang=\"en_XX\", cache_dir=\"/fs/clip-scratch/sweagraw/CACHE\")"
   ]
  },
  {
   "cell_type": "code",
   "execution_count": null,
   "id": "bb049864",
   "metadata": {},
   "outputs": [],
   "source": [
    "def translate_text(text, tgt_lang):\n",
    "    model_inputs = tokenizer(text, return_tensors=\"pt\", padding=True)\n",
    "\n",
    "    # translate from English to Hindi\n",
    "    generated_tokens = model.generate(\n",
    "        **model_inputs,\n",
    "        forced_bos_token_id=tokenizer.lang_code_to_id[tgt_lang_to_code[tgt_lang]]\n",
    "    )\n",
    "    return tokenizer.batch_decode(generated_tokens, skip_special_tokens=True)"
   ]
  },
  {
   "cell_type": "code",
   "execution_count": null,
   "id": "05146ce6",
   "metadata": {},
   "outputs": [],
   "source": [
    "src_lang = \"en\"\n",
    "tgt_lang = \"hi\"\n",
    "domain=\"combined\"\n",
    "split=\"dev\"\n",
    "source, formal_translations, informal_translations = get_data(tgt_lang, domain, split)"
   ]
  },
  {
   "cell_type": "code",
   "execution_count": null,
   "id": "7937caed",
   "metadata": {},
   "outputs": [],
   "source": [
    "output_dir=f\"../experiments/{src_lang}-{tgt_lang}/mBART_informal/{domain}/\"\n",
    "os.makedirs(output_dir, exist_ok=True)"
   ]
  },
  {
   "cell_type": "code",
   "execution_count": null,
   "id": "29e699e9",
   "metadata": {},
   "outputs": [],
   "source": [
    "outputs = translate_text(source, tgt_lang)"
   ]
  },
  {
   "cell_type": "code",
   "execution_count": null,
   "id": "07e74ce9",
   "metadata": {},
   "outputs": [],
   "source": [
    " with open(output_dir+\"/out.\"+split, \"w\") as f:\n",
    "        for out in outputs:\n",
    "            f.write(out + \"\\n\")"
   ]
  },
  {
   "cell_type": "code",
   "execution_count": null,
   "id": "c37c7022",
   "metadata": {},
   "outputs": [],
   "source": [
    "# Other decodng strategies"
   ]
  },
  {
   "cell_type": "code",
   "execution_count": null,
   "id": "ff45c18a",
   "metadata": {},
   "outputs": [],
   "source": [
    "model_inputs = tokenizer(source[0], return_tensors=\"pt\", padding=True)"
   ]
  },
  {
   "cell_type": "code",
   "execution_count": null,
   "id": "de219137",
   "metadata": {},
   "outputs": [],
   "source": [
    "# translate from English to Hindi\n",
    "generated_tokens = model.generate(\n",
    "    **model_inputs,\n",
    "    forced_bos_token_id=tokenizer.lang_code_to_id[tgt_lang_to_code[tgt_lang]],\n",
    "    max_length=50, \n",
    "    num_beams=5, \n",
    "    num_return_sequences=5, \n",
    "    early_stopping=True\n",
    ")"
   ]
  },
  {
   "cell_type": "code",
   "execution_count": null,
   "id": "1688e8ae",
   "metadata": {},
   "outputs": [],
   "source": [
    "generated_tokens"
   ]
  },
  {
   "cell_type": "code",
   "execution_count": null,
   "id": "c5343bf1",
   "metadata": {},
   "outputs": [],
   "source": [
    "tokenizer.batch_decode(generated_tokens, skip_special_tokens=True)"
   ]
  },
  {
   "cell_type": "markdown",
   "id": "842767d9",
   "metadata": {},
   "source": [
    "# Evaluation Covariates"
   ]
  },
  {
   "cell_type": "code",
   "execution_count": null,
   "id": "90f2168f",
   "metadata": {},
   "outputs": [],
   "source": [
    "from transformers import AutoTokenizer\n",
    "import sacrebleu\n",
    "import sys\n",
    "import os\n",
    "from transformers import AutoModelForSeq2SeqLM, DataCollatorForSeq2Seq, Seq2SeqTrainingArguments, Seq2SeqTrainer, MBartForConditionalGeneration, MBart50TokenizerFast"
   ]
  },
  {
   "cell_type": "code",
   "execution_count": null,
   "id": "81dd2072",
   "metadata": {},
   "outputs": [],
   "source": [
    "from mbart_covariate import CMBartForConditionalGeneration"
   ]
  },
  {
   "cell_type": "code",
   "execution_count": null,
   "id": "0688f543",
   "metadata": {},
   "outputs": [],
   "source": [
    "model = CMBartForConditionalGeneration.from_pretrained(\"../models/facebook/mbart-large-50-one-to-many-mmt-finetuned-covariate-en-to-xx\", cache_dir=\"/fs/clip-scratch/sweagraw/CACHE\")\n",
    "tokenizer = MBart50TokenizerFast.from_pretrained(\"facebook/mbart-large-50-one-to-many-mmt\", src_lang=\"en_XX\", cache_dir=\"/fs/clip-scratch/sweagraw/CACHE\")"
   ]
  },
  {
   "cell_type": "code",
   "execution_count": null,
   "id": "6b499b64",
   "metadata": {},
   "outputs": [],
   "source": [
    "import torch\n",
    "def translate_text(text, tgt_lang, covariate_index):\n",
    "    model_inputs = tokenizer(text, return_tensors=\"pt\", padding=True)\n",
    "    kwargs = {}\n",
    "    kwargs[\"covariate_ids\"] = torch.tensor([covariate_index]*len(text))\n",
    "\n",
    "    # translate from English to Hindi\n",
    "    generated_tokens = model.generate(\n",
    "        **model_inputs,\n",
    "        forced_bos_token_id=tokenizer.lang_code_to_id[tgt_lang_to_code[tgt_lang]],\n",
    "        **kwargs\n",
    "    )\n",
    "    return tokenizer.batch_decode(generated_tokens, skip_special_tokens=True)"
   ]
  },
  {
   "cell_type": "code",
   "execution_count": null,
   "id": "1ec8e585",
   "metadata": {},
   "outputs": [],
   "source": [
    "outputs = translate_text(source, tgt_lang, covariate_index=1)"
   ]
  },
  {
   "cell_type": "code",
   "execution_count": null,
   "id": "fc008c1b",
   "metadata": {},
   "outputs": [],
   "source": [
    "outputs"
   ]
  },
  {
   "cell_type": "code",
   "execution_count": null,
   "id": "e7d4db11",
   "metadata": {},
   "outputs": [],
   "source": [
    "outputs"
   ]
  }
 ],
 "metadata": {
  "kernelspec": {
   "display_name": "Python 3 (ipykernel)",
   "language": "python",
   "name": "python3"
  },
  "language_info": {
   "codemirror_mode": {
    "name": "ipython",
    "version": 3
   },
   "file_extension": ".py",
   "mimetype": "text/x-python",
   "name": "python",
   "nbconvert_exporter": "python",
   "pygments_lexer": "ipython3",
   "version": "3.9.6"
  }
 },
 "nbformat": 4,
 "nbformat_minor": 5
}
