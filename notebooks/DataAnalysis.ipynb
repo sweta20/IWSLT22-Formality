{
 "cells": [
  {
   "cell_type": "code",
   "execution_count": 1,
   "id": "1117834f",
   "metadata": {},
   "outputs": [],
   "source": [
    "def read_file(fname):\n",
    "    data = []\n",
    "    with open(fname) as f:\n",
    "        for line in f:\n",
    "            data.append(line.strip())\n",
    "    return data"
   ]
  },
  {
   "cell_type": "code",
   "execution_count": 2,
   "id": "a1fa6b0a",
   "metadata": {},
   "outputs": [],
   "source": [
    "def get_data(tgt_lang, domain, split):\n",
    "    source = read_file(f\"../internal_split/en-{tgt_lang}/{split}.{domain}.en\")\n",
    "    formal_translations = read_file(f\"../internal_split/en-{tgt_lang}/{split}.{domain}.formal.{tgt_lang}\")\n",
    "    informal_translations = read_file(f\"../internal_split/en-{tgt_lang}/{split}.{domain}.informal.{tgt_lang}\")\n",
    "    return source, formal_translations, informal_translations"
   ]
  },
  {
   "cell_type": "code",
   "execution_count": 3,
   "id": "ebda0c3b",
   "metadata": {},
   "outputs": [],
   "source": [
    "src_lang = \"en\"\n",
    "tgt_lang = \"hi\"\n",
    "domain=\"combined\"\n",
    "split = \"train\""
   ]
  },
  {
   "cell_type": "code",
   "execution_count": 4,
   "id": "6ebcaeb7",
   "metadata": {},
   "outputs": [],
   "source": [
    "import numpy as np\n",
    "def get_average_length(texts, tokenization):\n",
    "    if tokenization==\"white_space\":\n",
    "        lengths = [len(x.split(\" \")) for x in texts]\n",
    "        return np.average(lengths)\n",
    "    elif tokenization==\"char\":\n",
    "        lengths = [len(x) for x in texts]\n",
    "    return np.average(lengths)"
   ]
  },
  {
   "cell_type": "code",
   "execution_count": 5,
   "id": "69d4bad9",
   "metadata": {},
   "outputs": [],
   "source": [
    "def is_similar(x, y):\n",
    "    return 1 if x==y else 0\n",
    "\n",
    "def get_no_diff_counts(formal_translations, informal_translations):\n",
    "    count = np.sum([is_similar(x, y) for (x, y) in zip(formal_translations, informal_translations)])\n",
    "    return np.average(count)"
   ]
  },
  {
   "cell_type": "code",
   "execution_count": 6,
   "id": "d1b49fdd",
   "metadata": {},
   "outputs": [
    {
     "name": "stdout",
     "output_type": "stream",
     "text": [
      "Language de\n",
      "Source Length:  20.036666666666665\n",
      "Formal Length:  20.363333333333333\n",
      "Informal Length:  20.263333333333332\n",
      "No Difference 20.0\n",
      "Language es\n",
      "Source Length:  20.03\n",
      "Formal Length:  19.563333333333333\n",
      "Informal Length:  19.523333333333333\n",
      "No Difference 44.0\n",
      "Language hi\n",
      "Source Length:  20.21\n",
      "Formal Length:  23.72\n",
      "Informal Length:  23.723333333333333\n",
      "No Difference 60.0\n",
      "Language ja\n",
      "Source Length:  22.065555555555555\n",
      "Formal Length:  55.032222222222224\n",
      "Informal Length:  51.84888888888889\n",
      "No Difference 16.0\n"
     ]
    }
   ],
   "source": [
    "for tgt_lang in [\"de\", \"es\", \"hi\", \"ja\"]:\n",
    "    \n",
    "    source, formal_translations, informal_translations=get_data(tgt_lang, domain, split)\n",
    "    print(\"Language\", tgt_lang)\n",
    "    print(\"Source Length: \", get_average_length(source, \"white_space\"))\n",
    "    if tgt_lang == \"ja\":\n",
    "        tokenization = \"char\"\n",
    "    else:\n",
    "        tokenization = \"white_space\"\n",
    "    print(\"Formal Length: \", get_average_length(formal_translations, tokenization))\n",
    "    print(\"Informal Length: \", get_average_length(informal_translations, tokenization))\n",
    "    \n",
    "    print(\"No Difference\", get_no_diff_counts(formal_translations, informal_translations))"
   ]
  },
  {
   "cell_type": "code",
   "execution_count": 9,
   "id": "33104bb3",
   "metadata": {},
   "outputs": [],
   "source": [
    "import re\n",
    "FORMALITY_PHRASES = re.compile(\"(\\[F\\](.*?)\\[/F\\])\")\n",
    "\n",
    "def get_annotated_data(tgt_lang, domain, split):\n",
    "    formal_annotated = read_file(f\"../internal_split/en-{tgt_lang}/{split}.{domain}.formal.annotated.{tgt_lang}\")\n",
    "    informal_annotated = read_file(f\"../internal_split/en-{tgt_lang}/{split}.{domain}.informal.annotated.{tgt_lang}\")\n",
    "    return formal_annotated, informal_annotated\n",
    "\n",
    "def get_sentence_phrasal_counts(sent):\n",
    "    anno_ph = re.findall(FORMALITY_PHRASES, sent)\n",
    "    return len(anno_ph)\n",
    "\n",
    "def get_phrasal_annotations_counts(formal_annotated, informal_annotated):\n",
    "    formal_counts = []\n",
    "    for text in formal_annotated:\n",
    "        formal_counts.append(get_sentence_phrasal_counts(text))\n",
    "    \n",
    "    informal_counts = []\n",
    "    for text in informal_annotated:\n",
    "        informal_counts.append(get_sentence_phrasal_counts(text))\n",
    "    \n",
    "    return np.average(formal_counts), np.average(informal_counts)"
   ]
  },
  {
   "cell_type": "code",
   "execution_count": 10,
   "id": "4a952a40",
   "metadata": {},
   "outputs": [
    {
     "name": "stdout",
     "output_type": "stream",
     "text": [
      "Language de\n",
      "Counts:  (1.8866666666666667, 1.8866666666666667)\n",
      "Language es\n",
      "Counts:  (1.5433333333333332, 1.5433333333333332)\n",
      "Language hi\n",
      "Counts:  (1.53, 1.53)\n",
      "Language ja\n",
      "Counts:  (2.4544444444444444, 2.37)\n"
     ]
    }
   ],
   "source": [
    "for tgt_lang in [\"de\", \"es\", \"hi\", \"ja\"]:\n",
    "    \n",
    "    formal_annotated, informal_annotated=get_annotated_data(tgt_lang, domain, split)\n",
    "    print(\"Language\", tgt_lang)\n",
    "    print(\"Counts: \", get_phrasal_annotations_counts(formal_annotated, informal_annotated))"
   ]
  },
  {
   "cell_type": "code",
   "execution_count": null,
   "id": "9a2501e6",
   "metadata": {},
   "outputs": [],
   "source": [
    "output = read_file(\"../experiments/en-hi/baseline/combined/out.dev\")"
   ]
  },
  {
   "cell_type": "code",
   "execution_count": null,
   "id": "22ac2184",
   "metadata": {},
   "outputs": [],
   "source": [
    "formal_translations"
   ]
  },
  {
   "cell_type": "code",
   "execution_count": null,
   "id": "de384f81",
   "metadata": {},
   "outputs": [],
   "source": [
    "output"
   ]
  },
  {
   "cell_type": "code",
   "execution_count": null,
   "id": "60f1dae2",
   "metadata": {},
   "outputs": [],
   "source": []
  },
  {
   "cell_type": "code",
   "execution_count": null,
   "id": "66590cb7",
   "metadata": {},
   "outputs": [],
   "source": []
  }
 ],
 "metadata": {
  "kernelspec": {
   "display_name": "Python 3 (ipykernel)",
   "language": "python",
   "name": "python3"
  },
  "language_info": {
   "codemirror_mode": {
    "name": "ipython",
    "version": 3
   },
   "file_extension": ".py",
   "mimetype": "text/x-python",
   "name": "python",
   "nbconvert_exporter": "python",
   "pygments_lexer": "ipython3",
   "version": "3.9.6"
  }
 },
 "nbformat": 4,
 "nbformat_minor": 5
}
