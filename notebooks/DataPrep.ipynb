{
 "cells": [
  {
   "cell_type": "markdown",
   "id": "f8cfc8d3",
   "metadata": {},
   "source": [
    "# Cross Validation"
   ]
  },
  {
   "cell_type": "code",
   "execution_count": 1,
   "id": "badb9353",
   "metadata": {},
   "outputs": [],
   "source": [
    "import random\n",
    "import os"
   ]
  },
  {
   "cell_type": "code",
   "execution_count": 2,
   "id": "0639fa62",
   "metadata": {},
   "outputs": [],
   "source": [
    "def read_file(fname):\n",
    "    data = []\n",
    "    with open(fname) as f:\n",
    "        for line in f:\n",
    "            data.append(line.strip())\n",
    "    return data"
   ]
  },
  {
   "cell_type": "code",
   "execution_count": 3,
   "id": "6deef91a",
   "metadata": {},
   "outputs": [],
   "source": [
    "def get_data(tgt_lang, domain):\n",
    "    source = read_file(f\"../data/train/en-{tgt_lang}/formality-control.train.{domain}.en-{tgt_lang}.en\")\n",
    "    formal_translations = read_file(f\"../data/train/en-{tgt_lang}/formality-control.train.{domain}.en-{tgt_lang}.formal.{tgt_lang}\")\n",
    "    informal_translations = read_file(f\"../data/train/en-{tgt_lang}/formality-control.train.{domain}.en-{tgt_lang}.informal.{tgt_lang}\")\n",
    "    formal_translations_annotated = read_file(f\"../data/train/en-{tgt_lang}/formality-control.train.{domain}.en-{tgt_lang}.formal.annotated.{tgt_lang}\")\n",
    "    informal_translations_annotated = read_file(f\"../data/train/en-{tgt_lang}/formality-control.train.{domain}.en-{tgt_lang}.informal.annotated.{tgt_lang}\")\n",
    "    return {domain + \".en\": source,\n",
    "           domain + \".formal.\" + tgt_lang: formal_translations,\n",
    "           domain + \".informal.\" + tgt_lang:informal_translations,\n",
    "           domain + \".formal.annotated.\" + tgt_lang: formal_translations_annotated,\n",
    "           domain + \".informal.annotated.\" + tgt_lang: informal_translations_annotated}, len(source)"
   ]
  },
  {
   "cell_type": "code",
   "execution_count": 4,
   "id": "fe4610be",
   "metadata": {},
   "outputs": [],
   "source": [
    "def write_lines(out_file, indices, data):\n",
    "    with open(out_file, \"w\") as f:\n",
    "        for i in indices:\n",
    "            f.write(data[i] + \"\\n\")  "
   ]
  },
  {
   "cell_type": "code",
   "execution_count": 5,
   "id": "a359eb54",
   "metadata": {},
   "outputs": [],
   "source": [
    "def write(out_dir, indices, data):\n",
    "    for split in indices:\n",
    "        for key in data:\n",
    "            write_lines(out_dir + split + \".\" + key, indices[split], data[key])"
   ]
  },
  {
   "cell_type": "code",
   "execution_count": 6,
   "id": "5e484db7",
   "metadata": {},
   "outputs": [],
   "source": [
    "def get_split(x, test_size=50):\n",
    "    indices = list(range(x))\n",
    "    indices = random.sample(indices, len(indices))\n",
    "    split = {}\n",
    "    for i in range(0, x, test_size):\n",
    "        index = int(i/test_size)\n",
    "        split[index] = {}\n",
    "        split[index][\"dev\"] = indices[i:i+test_size]\n",
    "        split[index][\"train\"] = indices[0:i] + indices[i+test_size:]\n",
    "        if len(split)==4:\n",
    "            break\n",
    "    return split"
   ]
  },
  {
   "cell_type": "code",
   "execution_count": 10,
   "id": "7169e337",
   "metadata": {},
   "outputs": [],
   "source": [
    "for tgt_lang in [\"de\", \"es\", \"hi\", \"ja\"]:\n",
    "    for domain in [\"telephony\", \"topical-chat\"]:\n",
    "        data, length = get_data(tgt_lang, domain)\n",
    "        all_split = get_split(length)\n",
    "        for split in all_split.keys():\n",
    "            out_dir = f\"../cross_val/internal_split{split}/en-{tgt_lang}/\"\n",
    "            os.makedirs(out_dir, exist_ok=True)\n",
    "            write(out_dir, all_split[split], data)"
   ]
  },
  {
   "cell_type": "code",
   "execution_count": null,
   "id": "816386ae",
   "metadata": {},
   "outputs": [],
   "source": [
    "def get_paired_dataset(base_dir,  split, tokenizer, formal_idx, informal_idx, skips_by_langpair_and_source=None):\n",
    "    skips_by_langpair_and_source = skips_by_langpair_and_source or dict()\n",
    "    datasets = []\n",
    "    for dir_ in Path(base_dir).iterdir():\n",
    "        src_lang, tgt_lang = dir_.name.split(\"-\")\n",
    "        skipped_lines_by_langpair = skips_by_langpair_and_source.get((src_lang, tgt_lang), {})\n",
    "\n",
    "        topical_src, topical_formal, topical_informal = read_paired_topical(src_lang, tgt_lang, split, dir_, skipped_lines_by_langpair.get(\"topical\"))\n",
    "        telephony_src, telephony_formal, telephony_informal = read_paired_telephony(src_lang, tgt_lang, split, dir_, skipped_lines_by_langpair.get(\"telephony\"))\n",
    "\n",
    "        topical_src_encoded, topical_tgt_formal_encoded, topical_tgt_informal_encoded = encode_split(topical_src, topical_formal, topical_informal, tokenizer)\n",
    "        length = len(topical_src_encoded)\n",
    "        topical_formal_dataset = FormalityDataset(topical_src_encoded[:, topical_tgt_formal_encoded, formal_idx)\n",
    "        topical_informal_dataset = FormalityDataset(topical_src_encoded, topical_tgt_informal_encoded, informal_idx)\n",
    "\n",
    "        telephony_src_encoded, telephony_tgt_formal_encoded, telephony_tgt_informal_encoded = encode_split(telephony_src, telephony_formal, telephony_informal, tokenizer)\n",
    "\n",
    "        telephony_formal_dataset = FormalityDataset(telephony_src_encoded, telephony_tgt_formal_encoded, formal_idx)\n",
    "        telephony_informal_dataset = FormalityDataset(telephony_src_encoded, telephony_tgt_informal_encoded, informal_idx)\n",
    "\n",
    "        dataset = torch.utils.data.ConcatDataset((topical_formal_dataset, topical_informal_dataset, telephony_formal_dataset, telephony_informal_dataset))\n",
    "        datasets.append(dataset)\n",
    "    return torch.utils.data.ConcatDataset(datasets)\n"
   ]
  },
  {
   "cell_type": "code",
   "execution_count": null,
   "id": "60d1e2d5",
   "metadata": {},
   "outputs": [],
   "source": []
  },
  {
   "cell_type": "code",
   "execution_count": null,
   "id": "b8d7b61d",
   "metadata": {},
   "outputs": [],
   "source": []
  }
 ],
 "metadata": {
  "kernelspec": {
   "display_name": "Python 3 (ipykernel)",
   "language": "python",
   "name": "python3"
  },
  "language_info": {
   "codemirror_mode": {
    "name": "ipython",
    "version": 3
   },
   "file_extension": ".py",
   "mimetype": "text/x-python",
   "name": "python",
   "nbconvert_exporter": "python",
   "pygments_lexer": "ipython3",
   "version": "3.9.6"
  }
 },
 "nbformat": 4,
 "nbformat_minor": 5
}
