{
 "cells": [
  {
   "cell_type": "code",
   "execution_count": 1,
   "id": "c340a8b7",
   "metadata": {},
   "outputs": [],
   "source": [
    "import os\n",
    "import pandas as pd\n",
    "from sklearn.utils import shuffle"
   ]
  },
  {
   "cell_type": "code",
   "execution_count": 2,
   "id": "7f06c238",
   "metadata": {},
   "outputs": [],
   "source": [
    "def read_file(fname):\n",
    "    data = []\n",
    "    with open(fname) as f:\n",
    "        for line in f:\n",
    "            data.append(line.strip())\n",
    "    return data\n",
    "\n",
    "def get_data(tgt_lang, domain, split):\n",
    "    source = read_file(f\"../internal_split/en-{tgt_lang}/{split}.{domain}.en\")\n",
    "    formal_translations = read_file(f\"../internal_split/en-{tgt_lang}/{split}.{domain}.formal.{tgt_lang}\")\n",
    "    informal_translations = read_file(f\"../internal_split/en-{tgt_lang}/{split}.{domain}.informal.{tgt_lang}\")\n",
    "    return source, formal_translations, informal_translations"
   ]
  },
  {
   "cell_type": "code",
   "execution_count": 3,
   "id": "4484b69c",
   "metadata": {},
   "outputs": [],
   "source": [
    "\n",
    "def concatenate_lists_into_df(lists, labels):\n",
    "    lists_with_names = [[labels[i]] + [y] for i in range(len(lists)) for y in lists[i]]\n",
    "    df = pd.DataFrame(lists_with_names).reset_index() \n",
    "    df.columns=[\"SID\", \"label\", \"sentence\"]\n",
    "    return df"
   ]
  },
  {
   "cell_type": "code",
   "execution_count": 5,
   "id": "258c2339",
   "metadata": {},
   "outputs": [],
   "source": [
    "for tgt_lang in [\"de\", \"es\", \"hi\", \"ja\"]:\n",
    "    out_dir = \"../formality_classifiers_data/\" + tgt_lang\n",
    "    os.makedirs(out_dir, exist_ok=True)\n",
    "    for split in [\"train\", \"dev\"]:\n",
    "        source, formal_translations, informal_translations = get_data(tgt_lang, \"combined\", split)\n",
    "        df = concatenate_lists_into_df([formal_translations, informal_translations], ['1', '0'])\n",
    "        df = shuffle(df)\n",
    "        df.to_csv(out_dir + \"/\" +split + \".csv\", index=False)"
   ]
  },
  {
   "cell_type": "code",
   "execution_count": null,
   "id": "acaaa822",
   "metadata": {},
   "outputs": [],
   "source": []
  }
 ],
 "metadata": {
  "kernelspec": {
   "display_name": "Python 3 (ipykernel)",
   "language": "python",
   "name": "python3"
  },
  "language_info": {
   "codemirror_mode": {
    "name": "ipython",
    "version": 3
   },
   "file_extension": ".py",
   "mimetype": "text/x-python",
   "name": "python",
   "nbconvert_exporter": "python",
   "pygments_lexer": "ipython3",
   "version": "3.9.6"
  }
 },
 "nbformat": 4,
 "nbformat_minor": 5
}
